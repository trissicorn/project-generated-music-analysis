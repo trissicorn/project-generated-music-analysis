{
  "nbformat": 4,
  "nbformat_minor": 0,
  "metadata": {
    "colab": {
      "provenance": []
    },
    "kernelspec": {
      "name": "python3",
      "display_name": "Python 3"
    },
    "language_info": {
      "name": "python"
    }
  },
  "cells": [
    {
      "cell_type": "markdown",
      "source": [
        "## Install dependencies"
      ],
      "metadata": {
        "id": "dd1NIMDkQeJ9"
      }
    },
    {
      "cell_type": "code",
      "source": [
        "!pip install essentia"
      ],
      "metadata": {
        "colab": {
          "base_uri": "https://localhost:8080/"
        },
        "id": "kXuIXvn5QTGo",
        "outputId": "e5e508ee-5811-4267-ddb7-42c886d67299"
      },
      "execution_count": 82,
      "outputs": [
        {
          "output_type": "stream",
          "name": "stdout",
          "text": [
            "Requirement already satisfied: essentia in /usr/local/lib/python3.10/dist-packages (2.1b6.dev1110)\n",
            "Requirement already satisfied: numpy>=1.8.2 in /usr/local/lib/python3.10/dist-packages (from essentia) (1.25.2)\n",
            "Requirement already satisfied: six in /usr/local/lib/python3.10/dist-packages (from essentia) (1.16.0)\n",
            "Requirement already satisfied: pyyaml in /usr/local/lib/python3.10/dist-packages (from essentia) (6.0.1)\n"
          ]
        }
      ]
    },
    {
      "cell_type": "code",
      "source": [
        "!pip install mir_eval"
      ],
      "metadata": {
        "colab": {
          "base_uri": "https://localhost:8080/"
        },
        "id": "AO-b8D-ibueX",
        "outputId": "1176460c-3743-490c-c813-8ae578b64874"
      },
      "execution_count": 83,
      "outputs": [
        {
          "output_type": "stream",
          "name": "stdout",
          "text": [
            "Requirement already satisfied: mir_eval in /usr/local/lib/python3.10/dist-packages (0.7)\n",
            "Requirement already satisfied: numpy>=1.7.0 in /usr/local/lib/python3.10/dist-packages (from mir_eval) (1.25.2)\n",
            "Requirement already satisfied: scipy>=1.0.0 in /usr/local/lib/python3.10/dist-packages (from mir_eval) (1.11.4)\n",
            "Requirement already satisfied: future in /usr/local/lib/python3.10/dist-packages (from mir_eval) (0.18.3)\n",
            "Requirement already satisfied: six in /usr/local/lib/python3.10/dist-packages (from mir_eval) (1.16.0)\n"
          ]
        }
      ]
    },
    {
      "cell_type": "code",
      "source": [
        "!pip install mido"
      ],
      "metadata": {
        "colab": {
          "base_uri": "https://localhost:8080/"
        },
        "id": "ODCbXEo4cRjY",
        "outputId": "a08dab76-0f95-469f-c556-611ea79c178b"
      },
      "execution_count": null,
      "outputs": [
        {
          "output_type": "stream",
          "name": "stdout",
          "text": [
            "Requirement already satisfied: mido in /usr/local/lib/python3.10/dist-packages (1.3.2)\n",
            "Requirement already satisfied: packaging~=23.1 in /usr/local/lib/python3.10/dist-packages (from mido) (23.2)\n"
          ]
        }
      ]
    },
    {
      "cell_type": "code",
      "source": [
        "!pip install pretty_midi"
      ],
      "metadata": {
        "id": "4IKHZFjNc-EA"
      },
      "execution_count": null,
      "outputs": []
    },
    {
      "cell_type": "markdown",
      "source": [
        "## Import"
      ],
      "metadata": {
        "id": "QEc4z0HrqX9H"
      }
    },
    {
      "cell_type": "code",
      "source": [
        "import librosa\n",
        "import essentia.standard as es\n",
        "import mido\n",
        "import pretty_midi\n",
        "import mir_eval.display\n",
        "from mir_eval.sonify import pitch_contour\n",
        "\n",
        "\n",
        "\n",
        "import numpy as np\n",
        "import matplotlib.pyplot as plt\n",
        "import IPython"
      ],
      "metadata": {
        "id": "6lboJnXbqSsX"
      },
      "execution_count": null,
      "outputs": []
    },
    {
      "cell_type": "code",
      "source": [
        "%matplotlib inline"
      ],
      "metadata": {
        "id": "BS1zdmCYdFYg"
      },
      "execution_count": null,
      "outputs": []
    },
    {
      "cell_type": "markdown",
      "source": [
        "## Import Drive"
      ],
      "metadata": {
        "id": "n286f4eGn-Fr"
      }
    },
    {
      "cell_type": "code",
      "source": [
        "from google.colab import drive\n",
        "drive.mount('/content/drive')"
      ],
      "metadata": {
        "id": "__bzaHVan9hL"
      },
      "execution_count": null,
      "outputs": []
    },
    {
      "cell_type": "code",
      "source": [
        "# file path\n",
        "path = 'drive/MyDrive/Colab Notebooks/audios/'\n",
        "fileName = 'Pop dance track with catchy melodies'\n",
        "ext = '.mp3'"
      ],
      "metadata": {
        "id": "yWci2fPePDxN"
      },
      "execution_count": null,
      "outputs": []
    },
    {
      "cell_type": "markdown",
      "source": [
        "Audio"
      ],
      "metadata": {
        "id": "J9ZRV2rkbSHM"
      }
    },
    {
      "cell_type": "markdown",
      "source": [],
      "metadata": {
        "id": "ygEU35KFV_cc"
      }
    },
    {
      "cell_type": "markdown",
      "source": [
        "## Essentia to pretty midi conversion"
      ],
      "metadata": {
        "id": "T6IL9RtIU3Ch"
      }
    },
    {
      "cell_type": "code",
      "source": [
        "# Recommended: Apply equal-loudness filter for PredominantPitchMelodia.\n",
        "loader = es.EqloudLoader(filename=path+fileName+ext, sampleRate=44100)\n",
        "audio = loader()\n",
        "print(f\"Duration of audio sample [sec]: {len(audio)/44100.0}\")"
      ],
      "metadata": {
        "id": "CL1T3y4NYrkB"
      },
      "execution_count": null,
      "outputs": []
    },
    {
      "cell_type": "code",
      "source": [
        "# PitchMelodia takes  entire audio signal as input.\n",
        "pitch_extractor = es.PredominantPitchMelodia(frameSize=2048, hopSize=128, guessUnvoiced=True)\n",
        "pitch_values, pitch_confidence = pitch_extractor(audio)\n",
        "\n",
        "# Pitch estimated on frames -> compute frame time positions.\n",
        "pitch_times = np.linspace(0.0,len(audio)/44100.0,len(pitch_values))"
      ],
      "metadata": {
        "id": "kSJDR41raTFu"
      },
      "execution_count": null,
      "outputs": []
    },
    {
      "cell_type": "code",
      "source": [
        "tmpAudio = path + 'results/' + 'syn_' + fileName + ext\n",
        "\n",
        "# Essentia operates with float32 ndarrays instead of float64, so let's cast it.\n",
        "synthesized_melody = pitch_contour(pitch_times, pitch_values, 44100).astype(np.float32)[:len(audio)]\n",
        "es.AudioWriter(filename=tmpAudio, format='mp3')(es.StereoMuxer()(audio, synthesized_melody))"
      ],
      "metadata": {
        "id": "SufnO89Nbotx"
      },
      "execution_count": null,
      "outputs": []
    },
    {
      "cell_type": "code",
      "source": [
        "onsets, durations, notes = es.PitchContourSegmentation(hopSize=128)(pitch_values, audio)\n",
        "print(\"MIDI notes:\", notes) # Midi pitch number\n",
        "print(\"MIDI note onsets:\", onsets)\n",
        "print(\"MIDI note durations:\", durations)"
      ],
      "metadata": {
        "id": "nG3hTjURcMEW"
      },
      "execution_count": null,
      "outputs": []
    },
    {
      "cell_type": "markdown",
      "source": [
        "## Piano Roll"
      ],
      "metadata": {
        "id": "WyX3v30GcyBG"
      }
    },
    {
      "cell_type": "code",
      "source": [
        "# Piano roll (time-frequency matrix)\n",
        "def plot_piano_roll(pm, start_pitch, end_pitch, fs=100):\n",
        "    # Use librosa's specshow function for displaying the piano roll\n",
        "    librosa.display.specshow(pm.get_piano_roll(fs)[start_pitch:end_pitch],\n",
        "                             hop_length=1, sr=fs, x_axis='time', y_axis='cqt_note',\n",
        "                             fmin=pretty_midi.note_number_to_hz(start_pitch))"
      ],
      "metadata": {
        "id": "4tqzla5VdOGD"
      },
      "execution_count": null,
      "outputs": []
    },
    {
      "cell_type": "code",
      "source": [
        "pm = pretty_midi.PrettyMIDI(midi_file)"
      ],
      "metadata": {
        "id": "7l8C7-bwd-JG"
      },
      "execution_count": null,
      "outputs": []
    },
    {
      "cell_type": "code",
      "source": [
        "plt.figure(figsize=(12, 4))\n",
        "plot_piano_roll(pm, 58, 84, fs=400)"
      ],
      "metadata": {
        "id": "YqynAFOteL89"
      },
      "execution_count": null,
      "outputs": []
    },
    {
      "cell_type": "code",
      "source": [
        "# Let's look at what's in this MIDI file\n",
        "print('There are {} time signature changes'.format(len(pm.time_signature_changes)))\n",
        "print('There are {} instruments'.format(len(pm.instruments)))\n",
        "print('Instrument 3 has {} notes'.format(len(pm.instruments[0].notes)))\n",
        "#print('Instrument 4 has {} pitch bends'.format(len(pm.instruments[4].pitch_bends)))\n",
        "#print('Instrument 5 has {} control changes'.format(len(pm.instruments[5].control_changes)))"
      ],
      "metadata": {
        "id": "UuKFovpFeSah"
      },
      "execution_count": null,
      "outputs": []
    },
    {
      "cell_type": "markdown",
      "source": [
        "## Analyizing MIDI and Essentia data"
      ],
      "metadata": {
        "id": "jl-KyseoefjE"
      }
    },
    {
      "cell_type": "code",
      "source": [
        "# Plot a pitch class distribution - sort of a proxy for key\n",
        "pm = pretty_midi.PrettyMIDI(midi_file)\n",
        "plt.bar(np.arange(12), pm.get_pitch_class_histogram());\n",
        "plt.xticks(np.arange(12), ['C', '', 'D', '', 'E', 'F', '', 'G', '', 'A', '', 'B'])\n",
        "plt.xlabel('Note')\n",
        "plt.ylabel('Proportion')\n",
        "\n",
        "pitch_class_histogram = pm.get_pitch_class_histogram()\n",
        "print(\"pitch class histogram percentage values:\",pitch_class_histogram)\n",
        "\n",
        "\n",
        "\n",
        "#calculate absolute pitch class values\n",
        "pitch_extractor = es.PredominantPitchMelodia()\n",
        "pitch_values, pitch_confidence = pitch_extractor(audio)\n",
        "\n",
        "empthy_frames = list(filter(lambda x: x == 0, pitch_values))\n",
        "print(\"Number of emthy frames:\",len(empthy_frames))\n",
        "\n",
        "print(\"number of all pitch values:\", len(pitch_values))\n",
        "\n",
        "print(\"Ratio of emthy frames:\",len(empthy_frames)/len(pitch_values))\n",
        "\n",
        "pitchesE = list(filter(lambda x: x != 0, pitch_values))\n",
        "print(\"All non cero pitch values: \", pitchesE)\n",
        "print(\"Number of non-cero pitch values: \", len(pitchesE))\n",
        "\n",
        "\n",
        "#absoluteClassValues = [i *  len(pitchesE) for i in pitch_class_histogram]\n",
        "absoluteClassValues = [round(i * len(pitchesE)) for i in pitch_class_histogram]\n",
        "print(absoluteClassValues)\n",
        "\n",
        "pitch_class_histogram = pm.get_pitch_class_histogram()\n",
        "pitch_class_histogram = [round(i,2) for i in pitch_class_histogram]\n",
        "print(pitch_class_histogram)\n",
        "\n",
        "\n"
      ],
      "metadata": {
        "id": "VKnFqXB7fB7H"
      },
      "execution_count": null,
      "outputs": []
    }
  ]
}