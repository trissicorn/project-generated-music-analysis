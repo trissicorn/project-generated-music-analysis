{
  "nbformat": 4,
  "nbformat_minor": 0,
  "metadata": {
    "colab": {
      "provenance": []
    },
    "kernelspec": {
      "name": "python3",
      "display_name": "Python 3"
    },
    "language_info": {
      "name": "python"
    }
  },
  "cells": [
    {
      "cell_type": "markdown",
      "source": [
        "# Install dependencies"
      ],
      "metadata": {
        "id": "dd1NIMDkQeJ9"
      }
    },
    {
      "cell_type": "code",
      "source": [
        "!pip install essentia"
      ],
      "metadata": {
        "colab": {
          "base_uri": "https://localhost:8080/"
        },
        "id": "kXuIXvn5QTGo",
        "outputId": "66be9188-45fc-487c-fae0-52cb4f61ea18"
      },
      "execution_count": 2,
      "outputs": [
        {
          "output_type": "stream",
          "name": "stdout",
          "text": [
            "Collecting essentia\n",
            "  Downloading essentia-2.1b6.dev1110-cp310-cp310-manylinux_2_17_x86_64.manylinux2014_x86_64.whl (13.7 MB)\n",
            "\u001b[2K     \u001b[90m━━━━━━━━━━━━━━━━━━━━━━━━━━━━━━━━━━━━━━━━\u001b[0m \u001b[32m13.7/13.7 MB\u001b[0m \u001b[31m29.7 MB/s\u001b[0m eta \u001b[36m0:00:00\u001b[0m\n",
            "\u001b[?25hRequirement already satisfied: numpy>=1.8.2 in /usr/local/lib/python3.10/dist-packages (from essentia) (1.25.2)\n",
            "Requirement already satisfied: six in /usr/local/lib/python3.10/dist-packages (from essentia) (1.16.0)\n",
            "Requirement already satisfied: pyyaml in /usr/local/lib/python3.10/dist-packages (from essentia) (6.0.1)\n",
            "Installing collected packages: essentia\n",
            "Successfully installed essentia-2.1b6.dev1110\n"
          ]
        }
      ]
    },
    {
      "cell_type": "code",
      "source": [
        "!pip install mir_eval"
      ],
      "metadata": {
        "colab": {
          "base_uri": "https://localhost:8080/"
        },
        "id": "AO-b8D-ibueX",
        "outputId": "819055b2-e0e7-4a0d-8244-1ab9868f1711"
      },
      "execution_count": 3,
      "outputs": [
        {
          "output_type": "stream",
          "name": "stdout",
          "text": [
            "Collecting mir_eval\n",
            "  Downloading mir_eval-0.7.tar.gz (90 kB)\n",
            "\u001b[?25l     \u001b[90m━━━━━━━━━━━━━━━━━━━━━━━━━━━━━━━━━━━━━━━━\u001b[0m \u001b[32m0.0/90.7 kB\u001b[0m \u001b[31m?\u001b[0m eta \u001b[36m-:--:--\u001b[0m\r\u001b[2K     \u001b[91m━━━━━━━━━━━━━━━━━━━━━━━━━━━\u001b[0m\u001b[90m╺\u001b[0m\u001b[90m━━━━━━━━━━━━\u001b[0m \u001b[32m61.4/90.7 kB\u001b[0m \u001b[31m1.7 MB/s\u001b[0m eta \u001b[36m0:00:01\u001b[0m\r\u001b[2K     \u001b[90m━━━━━━━━━━━━━━━━━━━━━━━━━━━━━━━━━━━━━━━━\u001b[0m \u001b[32m90.7/90.7 kB\u001b[0m \u001b[31m1.8 MB/s\u001b[0m eta \u001b[36m0:00:00\u001b[0m\n",
            "\u001b[?25h  Preparing metadata (setup.py) ... \u001b[?25l\u001b[?25hdone\n",
            "Requirement already satisfied: numpy>=1.7.0 in /usr/local/lib/python3.10/dist-packages (from mir_eval) (1.25.2)\n",
            "Requirement already satisfied: scipy>=1.0.0 in /usr/local/lib/python3.10/dist-packages (from mir_eval) (1.11.4)\n",
            "Requirement already satisfied: future in /usr/local/lib/python3.10/dist-packages (from mir_eval) (0.18.3)\n",
            "Requirement already satisfied: six in /usr/local/lib/python3.10/dist-packages (from mir_eval) (1.16.0)\n",
            "Building wheels for collected packages: mir_eval\n",
            "  Building wheel for mir_eval (setup.py) ... \u001b[?25l\u001b[?25hdone\n",
            "  Created wheel for mir_eval: filename=mir_eval-0.7-py3-none-any.whl size=100704 sha256=f1a1858f9be49dc1ef7eab37731be730ef9aaa2809ce1765ea4fec493f993863\n",
            "  Stored in directory: /root/.cache/pip/wheels/3e/2f/0d/dda9c4c77a170e21356b6afa2f7d9bb078338634ba05d94e3f\n",
            "Successfully built mir_eval\n",
            "Installing collected packages: mir_eval\n",
            "Successfully installed mir_eval-0.7\n"
          ]
        }
      ]
    },
    {
      "cell_type": "code",
      "source": [
        "!pip install mido"
      ],
      "metadata": {
        "colab": {
          "base_uri": "https://localhost:8080/"
        },
        "id": "ODCbXEo4cRjY",
        "outputId": "37dd3480-52ef-4e53-d9e7-542634d64408"
      },
      "execution_count": 4,
      "outputs": [
        {
          "output_type": "stream",
          "name": "stdout",
          "text": [
            "Collecting mido\n",
            "  Downloading mido-1.3.2-py3-none-any.whl (54 kB)\n",
            "\u001b[2K     \u001b[90m━━━━━━━━━━━━━━━━━━━━━━━━━━━━━━━━━━━━━━━━\u001b[0m \u001b[32m54.6/54.6 kB\u001b[0m \u001b[31m1.7 MB/s\u001b[0m eta \u001b[36m0:00:00\u001b[0m\n",
            "\u001b[?25hCollecting packaging~=23.1 (from mido)\n",
            "  Downloading packaging-23.2-py3-none-any.whl (53 kB)\n",
            "\u001b[2K     \u001b[90m━━━━━━━━━━━━━━━━━━━━━━━━━━━━━━━━━━━━━━━━\u001b[0m \u001b[32m53.0/53.0 kB\u001b[0m \u001b[31m4.7 MB/s\u001b[0m eta \u001b[36m0:00:00\u001b[0m\n",
            "\u001b[?25hInstalling collected packages: packaging, mido\n",
            "  Attempting uninstall: packaging\n",
            "    Found existing installation: packaging 24.0\n",
            "    Uninstalling packaging-24.0:\n",
            "      Successfully uninstalled packaging-24.0\n",
            "Successfully installed mido-1.3.2 packaging-23.2\n"
          ]
        }
      ]
    },
    {
      "cell_type": "code",
      "source": [
        "!pip install pretty_midi"
      ],
      "metadata": {
        "colab": {
          "base_uri": "https://localhost:8080/"
        },
        "id": "4IKHZFjNc-EA",
        "outputId": "f7355e83-019e-41b8-abf4-abdc87c3358a"
      },
      "execution_count": 5,
      "outputs": [
        {
          "output_type": "stream",
          "name": "stdout",
          "text": [
            "Collecting pretty_midi\n",
            "  Downloading pretty_midi-0.2.10.tar.gz (5.6 MB)\n",
            "\u001b[2K     \u001b[90m━━━━━━━━━━━━━━━━━━━━━━━━━━━━━━━━━━━━━━━━\u001b[0m \u001b[32m5.6/5.6 MB\u001b[0m \u001b[31m14.8 MB/s\u001b[0m eta \u001b[36m0:00:00\u001b[0m\n",
            "\u001b[?25h  Preparing metadata (setup.py) ... \u001b[?25l\u001b[?25hdone\n",
            "Requirement already satisfied: numpy>=1.7.0 in /usr/local/lib/python3.10/dist-packages (from pretty_midi) (1.25.2)\n",
            "Requirement already satisfied: mido>=1.1.16 in /usr/local/lib/python3.10/dist-packages (from pretty_midi) (1.3.2)\n",
            "Requirement already satisfied: six in /usr/local/lib/python3.10/dist-packages (from pretty_midi) (1.16.0)\n",
            "Requirement already satisfied: packaging~=23.1 in /usr/local/lib/python3.10/dist-packages (from mido>=1.1.16->pretty_midi) (23.2)\n",
            "Building wheels for collected packages: pretty_midi\n",
            "  Building wheel for pretty_midi (setup.py) ... \u001b[?25l\u001b[?25hdone\n",
            "  Created wheel for pretty_midi: filename=pretty_midi-0.2.10-py3-none-any.whl size=5592289 sha256=77c0314199a5235afb5bf511ac6a1a18838639a7e0ea4892040d4be67c868875\n",
            "  Stored in directory: /root/.cache/pip/wheels/cd/a5/30/7b8b7f58709f5150f67f98fde4b891ebf0be9ef07a8af49f25\n",
            "Successfully built pretty_midi\n",
            "Installing collected packages: pretty_midi\n",
            "Successfully installed pretty_midi-0.2.10\n"
          ]
        }
      ]
    },
    {
      "cell_type": "markdown",
      "source": [
        "# Import"
      ],
      "metadata": {
        "id": "QEc4z0HrqX9H"
      }
    },
    {
      "cell_type": "code",
      "source": [
        "import librosa\n",
        "import essentia.standard as es\n",
        "import mido\n",
        "import pretty_midi\n",
        "import mir_eval.display\n",
        "from mir_eval.sonify import pitch_contour\n",
        "\n",
        "\n",
        "\n",
        "import numpy as np\n",
        "import matplotlib.pyplot as plt\n",
        "import IPython"
      ],
      "metadata": {
        "id": "6lboJnXbqSsX"
      },
      "execution_count": 6,
      "outputs": []
    },
    {
      "cell_type": "code",
      "source": [
        "%matplotlib inline"
      ],
      "metadata": {
        "id": "BS1zdmCYdFYg"
      },
      "execution_count": 7,
      "outputs": []
    },
    {
      "cell_type": "markdown",
      "source": [
        "## Import Drive"
      ],
      "metadata": {
        "id": "n286f4eGn-Fr"
      }
    },
    {
      "cell_type": "code",
      "source": [
        "from google.colab import drive\n",
        "drive.mount('/content/drive')"
      ],
      "metadata": {
        "colab": {
          "base_uri": "https://localhost:8080/"
        },
        "id": "__bzaHVan9hL",
        "outputId": "5d54cbaa-fcf9-4417-91d2-0b6332e9f186"
      },
      "execution_count": 8,
      "outputs": [
        {
          "output_type": "stream",
          "name": "stdout",
          "text": [
            "Mounted at /content/drive\n"
          ]
        }
      ]
    },
    {
      "cell_type": "code",
      "source": [
        "# Chrissi file path\n",
        "path = 'drive/MyDrive/Colab Notebooks/audios/'\n",
        "fileName = 'stayin-alive-100bpm-30s'\n",
        "ext = '.mp3'"
      ],
      "metadata": {
        "id": "yWci2fPePDxN"
      },
      "execution_count": 9,
      "outputs": []
    },
    {
      "cell_type": "markdown",
      "source": [
        "Audio"
      ],
      "metadata": {
        "id": "J9ZRV2rkbSHM"
      }
    },
    {
      "cell_type": "markdown",
      "source": [
        "# Essentia"
      ],
      "metadata": {
        "id": "T6IL9RtIU3Ch"
      }
    },
    {
      "cell_type": "code",
      "source": [
        "# Recommended: Apply equal-loudness filter for PredominantPitchMelodia.\n",
        "loader = es.EqloudLoader(filename=path+fileName+ext, sampleRate=44100)\n",
        "audio = loader()\n",
        "print(f\"Duration of audio sample [sec]: {len(audio)/44100.0}\")"
      ],
      "metadata": {
        "colab": {
          "base_uri": "https://localhost:8080/"
        },
        "id": "CL1T3y4NYrkB",
        "outputId": "1c9d43f5-7401-48f7-88ff-c17724578479"
      },
      "execution_count": 10,
      "outputs": [
        {
          "output_type": "stream",
          "name": "stdout",
          "text": [
            "Duration of audio sample [sec]: 30.048956916099772\n"
          ]
        }
      ]
    },
    {
      "cell_type": "code",
      "source": [
        "# PitchMelodia takes  entire audio signal as input.\n",
        "pitch_extractor = es.PredominantPitchMelodia(frameSize=2048, hopSize=128, guessUnvoiced=True)\n",
        "pitch_values, pitch_confidence = pitch_extractor(audio)\n",
        "\n",
        "# Pitch estimated on frames -> compute frame time positions.\n",
        "pitch_times = np.linspace(0.0,len(audio)/44100.0,len(pitch_values))"
      ],
      "metadata": {
        "id": "kSJDR41raTFu"
      },
      "execution_count": 11,
      "outputs": []
    },
    {
      "cell_type": "code",
      "source": [
        "tmpAudio = path + 'results/' + 'syn_' + fileName + ext\n",
        "\n",
        "# Essentia operates with float32 ndarrays instead of float64, so let's cast it.\n",
        "synthesized_melody = pitch_contour(pitch_times, pitch_values, 44100).astype(np.float32)[:len(audio)]\n",
        "es.AudioWriter(filename=tmpAudio, format='mp3')(es.StereoMuxer()(audio, synthesized_melody))"
      ],
      "metadata": {
        "id": "SufnO89Nbotx"
      },
      "execution_count": 12,
      "outputs": []
    },
    {
      "cell_type": "code",
      "source": [
        "onsets, durations, notes = es.PitchContourSegmentation(hopSize=128)(pitch_values, audio)\n",
        "print(\"MIDI notes:\", notes) # Midi pitch number\n",
        "print(\"MIDI note onsets:\", onsets)\n",
        "print(\"MIDI note durations:\", durations)"
      ],
      "metadata": {
        "colab": {
          "base_uri": "https://localhost:8080/"
        },
        "id": "nG3hTjURcMEW",
        "outputId": "7da26836-7ad6-4b5e-b39d-a9df9d7c95e3"
      },
      "execution_count": 13,
      "outputs": [
        {
          "output_type": "stream",
          "name": "stdout",
          "text": [
            "MIDI notes: [51. 58. 56. 51. 41. 48. 58. 51. 41. 57. 46. 48. 51. 54. 53. 44. 48. 47.\n",
            " 46. 46. 49. 46. 58. 55. 55. 58. 53. 46. 58. 46. 75. 58. 58. 58. 56. 54.\n",
            " 51. 48. 47. 51. 48. 47. 48. 41. 53. 53. 64. 57. 54. 71. 69. 56. 70. 71.\n",
            " 72. 63. 62. 70. 65. 60. 68. 68. 68. 70. 78. 65. 66. 68. 60. 58. 64. 51.\n",
            " 64. 60. 63. 65. 65. 66. 56. 47. 41. 69. 72. 87. 72. 71. 72. 71. 71. 51.\n",
            " 68. 69. 68. 68. 62. 70. 65. 61. 65. 65. 68. 68. 75. 70. 65. 65. 65. 66.\n",
            " 65. 72. 68. 80. 68. 70. 70. 46. 53. 70. 58. 70. 70. 62. 66. 62. 55. 70.\n",
            " 69. 68. 69. 70. 71. 72. 54. 56. 65. 70. 70. 72.]\n",
            "MIDI note onsets: [ 1.5238096  1.6282994  1.9040363  2.3655329  2.6441724  2.9431293\n",
            "  3.2391837  3.5149207  3.9096599  4.249252   4.687528   5.0039\n",
            "  5.2564173  5.5118365  5.6163263  5.8282084  6.0081635  6.1126533\n",
            "  6.211338   6.405805   6.7250795  6.8295693  7.2678456  7.8338323\n",
            "  7.932517   8.031201   8.321451   8.4317465  8.565261   8.66975\n",
            "  9.015147   9.113832   9.499864  10.170341  11.221043  11.61288\n",
            " 11.71737   12.2195015 12.5561905 12.8       13.052517  13.157007\n",
            " 13.255692  13.354377  13.952291  14.492154  14.596644  14.695329\n",
            " 14.794014  14.94204   15.046531  15.145215  15.246802  15.345488\n",
            " 15.444172  15.589297  15.873741  15.978231  16.076916  16.274286\n",
            " 16.404898  16.715466  16.828663  16.979591  17.078278  17.176962\n",
            " 17.400454  17.554285  17.760363  17.859047  17.980953  18.163809\n",
            " 18.599184  18.718185  18.816872  18.915556  19.057777  19.30449\n",
            " 19.40898   19.507664  19.60635   19.705034  19.803719  19.902403\n",
            " 20.03592   20.20136   20.305851  20.404535  20.54966   20.915375\n",
            " 21.043083  21.205624  21.304308  21.440725  21.57424   21.672926\n",
            " 21.847075  21.948662  22.047346  22.180862  22.328888  22.76136\n",
            " 22.95873   23.208345  23.30703   23.437641  23.574059  23.962994\n",
            " 24.067484  24.305487  24.404173  24.566711  24.674105  24.798912\n",
            " 25.240091  25.579683  25.698685  25.974422  26.157278  26.264671\n",
            " 26.389479  26.72907   26.86839   26.967075  27.06576   27.164444\n",
            " 27.698503  27.802994  27.901678  28.011972  28.151293  28.249977\n",
            " 28.769524  28.874014  29.001724  29.27746   29.471928  29.886984 ]\n",
            "MIDI note durations: [0.09868481 0.20897959 0.12190476 0.18575963 0.2496145  0.21478458\n",
            " 0.11029478 0.1538322  0.22349206 0.17705216 0.26993197 0.11609977\n",
            " 0.11900227 0.09868481 0.19156462 0.13061224 0.09868481 0.09287982\n",
            " 0.18866213 0.17705216 0.09868481 0.4121542  0.5601814  0.09287982\n",
            " 0.09287982 0.20027211 0.1044898  0.11609977 0.09868481 0.33959183\n",
            " 0.09287982 0.38022676 0.6646712  0.7111111  0.14512472 0.09868481\n",
            " 0.1044898  0.20027211 0.17705216 0.14222223 0.09868481 0.09287982\n",
            " 0.09287982 0.17705216 0.3105669  0.09868481 0.09287982 0.09287982\n",
            " 0.14222223 0.09868481 0.09287982 0.09578231 0.09287982 0.09287982\n",
            " 0.13931973 0.18866213 0.09868481 0.09287982 0.19156462 0.12480725\n",
            " 0.30476192 0.10739229 0.14512472 0.09287982 0.09287982 0.21768707\n",
            " 0.14802721 0.20027211 0.09287982 0.11609977 0.17124717 0.11319728\n",
            " 0.11319728 0.09287982 0.09287982 0.13641724 0.14222223 0.09868481\n",
            " 0.09287982 0.09287982 0.09287982 0.09287982 0.09287982 0.1015873\n",
            " 0.15963718 0.09868481 0.09287982 0.13931973 0.16834468 0.12190476\n",
            " 0.15673469 0.09287982 0.13061224 0.12770975 0.09287982 0.16834468\n",
            " 0.09578231 0.09287982 0.12770975 0.10739229 0.17414966 0.1509297\n",
            " 0.24380952 0.09287982 0.12480725 0.13061224 0.29605442 0.09868481\n",
            " 0.23219955 0.09287982 0.15673469 0.1015873  0.11900227 0.43537414\n",
            " 0.33378685 0.11319728 0.18285714 0.17705216 0.1015873  0.11900227\n",
            " 0.33378685 0.13351473 0.09287982 0.09287982 0.09287982 0.40054423\n",
            " 0.09868481 0.09287982 0.1044898  0.13351473 0.09287982 0.5137415\n",
            " 0.09868481 0.12190476 0.17124717 0.18866213 0.4092517  0.15673469]\n"
          ]
        }
      ]
    },
    {
      "cell_type": "code",
      "source": [
        "PPQ = 96 # Pulses per quarter note.\n",
        "BPM = 120 # Assuming a default tempo in Ableton to build a MIDI clip.\n",
        "tempo = mido.bpm2tempo(BPM) # Microseconds per beat.\n",
        "\n",
        "# Compute onsets and offsets for all MIDI notes in ticks.\n",
        "# Relative tick positions start from time 0.\n",
        "offsets = onsets + durations\n",
        "silence_durations = list(onsets[1:] - offsets[:-1]) + [0]\n",
        "\n",
        "mid = mido.MidiFile()\n",
        "track = mido.MidiTrack()\n",
        "mid.tracks.append(track)\n",
        "\n",
        "for note, onset, duration, silence_duration in zip(list(notes), list(onsets), list(durations), silence_durations):\n",
        "    track.append(mido.Message('note_on', note=int(note), velocity=64,\n",
        "                              time=int(mido.second2tick(duration, PPQ, tempo))))\n",
        "    track.append(mido.Message('note_off', note=int(note),\n",
        "                              time=int(mido.second2tick(silence_duration, PPQ, tempo))))\n",
        "\n",
        "midi_file = path + 'results/' + 'melody_' + fileName + '.mid'\n",
        "mid.save(midi_file)\n",
        "print(\"MIDI file location:\", midi_file)"
      ],
      "metadata": {
        "colab": {
          "base_uri": "https://localhost:8080/"
        },
        "id": "eyeEBRgjcLsF",
        "outputId": "cd456515-8bdc-4580-9a58-fa43bb3ffe70"
      },
      "execution_count": 14,
      "outputs": [
        {
          "output_type": "stream",
          "name": "stdout",
          "text": [
            "MIDI file location: drive/MyDrive/Colab Notebooks/audios/results/melody_stayin-alive-100bpm-30s.mid\n"
          ]
        }
      ]
    },
    {
      "cell_type": "markdown",
      "source": [
        "## Pretty midi"
      ],
      "metadata": {
        "id": "WyX3v30GcyBG"
      }
    },
    {
      "cell_type": "code",
      "source": [
        "# Piano roll (time-frequency matrix)\n",
        "def plot_piano_roll(pm, start_pitch, end_pitch, fs=100):\n",
        "    # Use librosa's specshow function for displaying the piano roll\n",
        "    librosa.display.specshow(pm.get_piano_roll(fs)[start_pitch:end_pitch],\n",
        "                             hop_length=1, sr=fs, x_axis='time', y_axis='cqt_note',\n",
        "                             fmin=pretty_midi.note_number_to_hz(start_pitch))"
      ],
      "metadata": {
        "id": "4tqzla5VdOGD"
      },
      "execution_count": 15,
      "outputs": []
    },
    {
      "cell_type": "code",
      "source": [
        "pm = pretty_midi.PrettyMIDI(midi_file)"
      ],
      "metadata": {
        "id": "7l8C7-bwd-JG"
      },
      "execution_count": 16,
      "outputs": []
    },
    {
      "cell_type": "code",
      "source": [
        "plt.figure(figsize=(12, 4))\n",
        "plot_piano_roll(pm, 58, 84, fs=400)"
      ],
      "metadata": {
        "colab": {
          "base_uri": "https://localhost:8080/",
          "height": 306
        },
        "id": "YqynAFOteL89",
        "outputId": "f25e6d9f-0fd5-4db1-c74e-45788198fb19"
      },
      "execution_count": 17,
      "outputs": [
        {
          "output_type": "stream",
          "name": "stderr",
          "text": [
            "<ipython-input-15-455600f4c246>:4: UserWarning: Frequency axis exceeds Nyquist. Did you remember to set all spectrogram parameters in specshow?\n",
            "  librosa.display.specshow(pm.get_piano_roll(fs)[start_pitch:end_pitch],\n"
          ]
        },
        {
          "output_type": "display_data",
          "data": {
            "text/plain": [
              "<Figure size 1200x400 with 1 Axes>"
            ],
            "image/png": "[encoded data removed]"
          },
          "metadata": {}
        }
      ]
    },
    {
      "cell_type": "code",
      "source": [
        "# Let's look at what's in this MIDI file\n",
        "print('There are {} time signature changes'.format(len(pm.time_signature_changes)))\n",
        "print('There are {} instruments'.format(len(pm.instruments)))\n",
        "print('Instrument 3 has {} notes'.format(len(pm.instruments[0].notes)))\n",
        "#print('Instrument 4 has {} pitch bends'.format(len(pm.instruments[4].pitch_bends)))\n",
        "#print('Instrument 5 has {} control changes'.format(len(pm.instruments[5].control_changes)))"
      ],
      "metadata": {
        "colab": {
          "base_uri": "https://localhost:8080/"
        },
        "id": "UuKFovpFeSah",
        "outputId": "84b6f54c-bd8b-463d-95cc-f2b714f2ba4e"
      },
      "execution_count": 18,
      "outputs": [
        {
          "output_type": "stream",
          "name": "stdout",
          "text": [
            "There are 0 time signature changes\n",
            "There are 1 instruments\n",
            "Instrument 3 has 137 notes\n"
          ]
        }
      ]
    },
    {
      "cell_type": "markdown",
      "source": [
        "## Analyizing MIDI data"
      ],
      "metadata": {
        "id": "jl-KyseoefjE"
      }
    },
    {
      "cell_type": "markdown",
      "source": [
        "### Harmonic information"
      ],
      "metadata": {
        "id": "XLdq8Bd4e-L2"
      }
    },
    {
      "cell_type": "code",
      "source": [
        "# Plot a pitch class distribution - sort of a proxy for key\n",
        "pm = pretty_midi.PrettyMIDI(midi_file)\n",
        "plt.bar(np.arange(12), pm.get_pitch_class_histogram());\n",
        "plt.xticks(np.arange(12), ['C', '', 'D', '', 'E', 'F', '', 'G', '', 'A', '', 'B'])\n",
        "plt.xlabel('Note')\n",
        "plt.ylabel('Proportion')\n",
        "\n",
        "pitch_class_histogram = pm.get_pitch_class_histogram()\n",
        "print(\"pitch class histogram percentage values:\",pitch_class_histogram)\n",
        "\n",
        "\n",
        "\n",
        "#calculate absolute pitch class values\n",
        "pitch_extractor = es.PredominantPitchMelodia()\n",
        "pitch_values, pitch_confidence = pitch_extractor(audio)\n",
        "\n",
        "empthy_frames = list(filter(lambda x: x == 0, pitch_values))\n",
        "print(\"Number of emthy frames:\",len(empthy_frames))\n",
        "\n",
        "print(\"number of all pitch values:\", len(pitch_values))\n",
        "\n",
        "print(\"Ratio of emthy frames:\",len(empthy_frames)/len(pitch_values))\n",
        "\n",
        "pitchesE = list(filter(lambda x: x != 0, pitch_values))\n",
        "print(\"All non cero pitch values: \", pitchesE)\n",
        "print(\"Number of non-cero pitch values: \", len(pitchesE))\n",
        "\n",
        "pitch_set = list(dict.fromkeys(pitchesE))\n",
        "print(\"Unique pitch values:\", pitch_set)\n",
        "print(\"Number of unique pitch values:\",len(pitch_set))\n",
        "\n",
        "\n",
        "\n",
        "#absoluteClassValues = [i *  len(pitchesE) for i in pitch_class_histogram]\n",
        "absoluteClassValues = [round(i * len(pitchesE)) for i in pitch_class_histogram]\n",
        "print(absoluteClassValues)\n",
        "\n",
        "pitch_class_histogram = pm.get_pitch_class_histogram()\n",
        "pitch_class_histogram = [round(i,2) for i in pitch_class_histogram]\n",
        "print(pitch_class_histogram)\n",
        "\n",
        "\n"
      ],
      "metadata": {
        "colab": {
          "base_uri": "https://localhost:8080/",
          "height": 660
        },
        "id": "VKnFqXB7fB7H",
        "outputId": "0b47a3a7-e5fb-49b5-905f-905c9a8e1dbc"
      },
      "execution_count": 19,
      "outputs": [
        {
          "output_type": "stream",
          "name": "stdout",
          "text": [
            "pitch class histogram percentage values: [0.10948905 0.01459854 0.02919708 0.09489051 0.02189781 0.15328467\n",
            " 0.06569343 0.02189781 0.13868613 0.05109489 0.22627737 0.0729927 ]\n",
            "Number of emthy frames: 4637\n",
            "number of all pitch values: 10354\n",
            "Ratio of emthy frames: 0.44784624299787523\n",
            "All non cero pitch values:  [160.12286, 158.28368, 158.28368, 158.28368, 158.28368, 158.28368, 159.20062, 159.20062, 160.12286, 159.20062, 159.20062, 158.28368, 158.28368, 157.37204, 156.46562, 156.46562, 156.46562, 157.37204, 157.37204, 157.37204, 158.28368, 159.20062, 159.20062, 160.12286, 160.12286, 160.12286, 160.12286, 159.20062, 160.12286, 160.12286, 161.05045, 163.86559, 167.69577, 171.61551, 172.60966, 174.61531, 175.62685, 175.62685, 176.64426, 176.64426, 176.64426, 177.66754, 177.66754, 177.66754, 177.66754, 177.66754, 177.66754, 177.66754, 177.66754, 177.66754, 177.66754, 176.64426, 176.64426, 176.64426, 176.64426, 176.64426, 177.66754, 177.66754, 177.66754, 177.66754, 177.66754, 177.66754, 177.66754, 177.66754, 177.66754, 177.66754, 177.66754, 177.66754, 177.66754, 178.69678, 178.69678, 180.77315, 180.77315, 180.77315, 179.73195, 180.77315, 214.97693, 214.97693, 214.97693, 214.97693, 213.73874, 213.73874, 212.50769, 212.50769, 211.28374, 211.28374, 211.28374, 211.28374, 212.50769, 212.50769, 212.50769, 211.28374, 211.28374, 210.06682, 210.06682, 211.28374, 212.50769, 212.50769, 212.50769, 212.50769, 212.50769, 211.28374, 211.28374, 210.06682, 210.06682, 210.06682, 211.28374, 211.28374, 212.50769, 212.50769, 211.28374, 211.28374, 211.28374, 211.28374, 211.28374, 211.28374, 211.28374, 212.50769, 212.50769, 159.20062, 158.28368, 158.28368, 157.37204, 158.28368, 159.20062, 160.12286, 161.05045, 160.12286, 160.12286, 159.20062, 159.20062, 158.28368, 158.28368, 158.28368, 159.20062, 159.20062, 159.20062, 159.20062, 158.28368, 159.20062, 158.28368, 159.20062, 159.20062, 159.20062, 159.20062, 159.20062, 158.28368, 158.28368, 157.37204, 157.37204, 157.37204, 158.28368, 159.20062, 159.20062, 159.20062, 160.12286, 159.20062, 159.20062, 159.20062, 159.20062, 158.28368, 158.28368, 158.28368, 158.28368, 158.28368, 157.37204, 158.28368, 158.28368, 158.28368, 159.20062, 159.20062, 159.20062, 159.20062, 159.20062, 159.20062, 159.20062, 159.20062, 159.20062, 159.20062, 158.28368, 158.28368, 157.37204, 156.46562, 155.56445, 159.20062, 159.20062, 159.20062, 159.20062, 159.20062, 158.28368, 158.28368, 159.20062, 159.20062, 159.20062, 160.12286, 160.12286, 159.20062, 159.20062, 159.20062, 159.20062, 159.20062, 159.20062, 158.28368, 158.28368, 157.37204, 157.37204, 157.37204, 158.28368, 159.20062, 159.20062, 160.12286, 160.12286, 160.12286, 160.12286, 159.20062, 159.20062, 158.28368, 158.28368, 158.28368, 158.28368, 159.20062, 159.20062, 159.20062, 159.20062, 159.20062, 159.20062, 158.28368, 158.28368, 157.37204, 157.37204, 156.46562, 156.46562, 157.37204, 157.37204, 158.28368, 158.28368, 158.28368, 157.37204, 88.83341, 88.83341, 88.83341, 88.32176, 87.81307, 88.83341, 88.83341, 88.83341, 88.32176, 89.34802, 88.83341, 88.32176, 87.81307, 88.83341, 87.3073, 86.80444, 86.80444, 86.80444, 88.32176, 88.32176, 88.83341, 88.83341, 88.83341, 87.81307, 87.3073, 87.81307, 88.32176, 88.32176, 88.83341, 89.34802, 88.83341, 87.81307, 87.3073, 87.3073, 88.83341, 88.83341, 89.86561, 88.32176, 88.32176, 87.3073, 86.80444, 87.3073, 88.83341, 89.34802, 89.86561, 90.909805, 90.3862, 89.34802, 87.3073, 86.80444, 87.3073, 87.81307, 88.32176, 88.83341, 88.83341, 88.83341, 88.83341, 88.32176, 88.32176, 88.32176, 88.32176, 88.32176, 88.32176, 88.83341, 88.83341, 88.83341, 88.32176, 87.81307, 87.81307, 87.81307, 88.32176, 88.32176, 88.83341, 88.83341, 88.83341, 88.83341, 88.83341, 88.83341, 161.05045, 161.05045, 160.12286, 160.12286, 159.20062, 159.20062, 159.20062, 159.20062, 160.12286, 159.20062, 160.12286, 160.12286, 159.20062, 159.20062, 159.20062, 158.28368, 157.37204, 157.37204, 157.37204, 157.37204, 157.37204, 158.28368, 158.28368, 159.20062, 159.20062, 159.20062, 159.20062, 159.20062, 158.28368, 158.28368, 158.28368, 158.28368, 159.20062, 159.20062, 159.20062, 159.20062, 163.86559, 163.86559, 132.33345, 133.10004, 133.8711, 133.8711, 134.6466, 134.6466, 134.6466, 135.4266, 134.6466, 133.10004, 132.33345, 131.57124, 132.33345, 132.33345, 133.10004, 133.8711, 133.8711, 133.8711, 133.10004, 132.33345, 132.33345, 132.33345, 132.33345, 132.33345, 132.33345, 132.33345, 132.33345, 133.10004, 133.10004, 133.8711, 134.6466, 134.6466, 134.6466, 133.10004, 132.33345, 131.57124, 130.81345, 131.57124, 132.33345, 133.10004, 133.8711, 206.45798, 208.85692, 210.06682, 210.06682, 206.45798, 202.91112, 201.74243, 199.42522, 195.99919, 191.52254, 186.07022, 182.87364, 181.82036, 181.82036, 181.82036, 181.82036, 181.82036, 181.82036, 180.77315, 180.77315, 179.73195, 179.73195, 178.69678, 178.69678, 179.73195, 178.69678, 178.69678, 178.69678, 177.66754, 176.64426, 175.62685, 175.62685, 176.64426, 175.62685, 177.66754, 177.66754, 178.69678, 178.69678, 177.66754, 176.64426, 176.64426, 176.64426, 176.64426, 176.64426, 176.64426, 177.66754, 177.66754, 177.66754, 177.66754, 177.66754, 177.66754, 176.64426, 176.64426, 176.64426, 176.64426, 177.66754, 178.69678, 178.69678, 178.69678, 178.69678, 176.64426, 176.64426, 175.62685, 175.62685, 175.62685, 176.64426, 177.66754, 179.73195, 178.69678, 178.69678, 178.69678, 177.66754, 176.64426, 176.64426, 176.64426, 176.64426, 176.64426, 176.64426, 177.66754, 177.66754, 177.66754, 176.64426, 176.64426, 176.64426, 175.62685, 176.64426, 175.62685, 176.64426, 176.64426, 176.64426, 175.62685, 173.60959, 171.61551, 170.62706, 169.64432, 171.61551, 172.60966, 173.60959, 174.61531, 175.62685, 174.61531, 172.60966, 170.62706, 105.64143, 105.032974, 105.032974, 105.64143, 105.64143, 105.64143, 106.25341, 106.25341, 105.64143, 105.032974, 105.64143, 106.25341, 106.25341, 105.032974, 105.032974, 104.428024, 103.82657, 105.64143, 106.25341, 106.868935, 106.25341, 106.25341, 105.64143, 105.64143, 105.032974, 104.428024, 105.032974, 105.64143, 105.64143, 105.64143, 105.64143, 106.25341, 105.64143, 105.032974, 104.428024, 104.428024, 104.428024, 104.428024, 105.64143, 105.032974, 105.64143, 105.64143, 105.64143, 104.428024, 103.82657, 103.82657, 213.73874, 210.06682, 207.65399, 204.0866, 199.42522, 195.99919, 191.52254, 188.23227, 186.07022, 184.99854, 182.87364, 181.82036, 179.73195, 178.69678, 119.956406, 119.2655, 119.2655, 119.2655, 119.2655, 119.2655, 118.578575, 118.578575, 118.578575, 118.578575, 118.578575, 118.578575, 119.2655, 119.2655, 119.2655, 118.578575, 118.578575, 118.578575, 118.578575, 118.578575, 118.578575, 118.578575, 118.578575, 117.895615, 117.895615, 118.578575, 118.578575, 118.578575, 118.578575, 118.578575, 118.578575, 118.578575, 118.578575, 117.895615, 118.578575, 118.578575, 119.2655, 119.2655, 119.2655, 119.2655, 119.2655, 119.2655, 119.2655, 119.2655, 118.578575, 118.578575, 117.895615, 117.895615, 117.895615, 118.578575, 117.895615, 117.895615, 117.895615, 117.895615, 117.895615, 117.895615, 118.578575, 118.578575, 118.578575, 118.578575, 118.578575, 118.578575, 118.578575, 118.578575, 118.578575, 118.578575, 118.578575, 118.578575, 118.578575, 118.578575, 118.578575, 118.578575, 118.578575, 119.2655, 119.2655, 119.2655, 119.2655, 119.2655, 119.2655, 118.578575, 118.578575, 118.578575, 118.578575, 118.578575, 118.578575, 119.2655, 118.578575, 118.578575, 118.578575, 118.578575, 119.2655, 119.956406, 119.2655, 117.895615, 117.21658, 116.54146, 115.870224, 112.57161, 111.92323, 113.22373, 115.870224, 116.54146, 117.895615, 118.578575, 119.2655, 119.2655, 119.2655, 118.578575, 118.578575, 118.578575, 118.578575, 118.578575, 118.578575, 118.578575, 118.578575, 117.895615, 117.895615, 118.578575, 117.895615, 117.895615, 117.895615, 118.578575, 119.2655, 119.2655, 119.2655, 119.2655, 119.2655, 119.2655, 119.2655, 118.578575, 118.578575, 118.578575, 118.578575, 119.2655, 119.2655, 118.578575, 118.578575, 118.578575, 118.578575, 118.578575, 117.895615, 117.895615, 117.895615, 117.895615, 118.578575, 118.578575, 119.2655, 119.2655, 119.2655, 119.956406, 120.65131, 119.2655, 119.2655, 119.2655, 117.21658, 117.21658, 117.21658, 117.895615, 117.895615, 117.895615, 241.3036, 241.3036, 241.3036, 241.3036, 239.9138, 238.53198, 234.43413, 235.79219, 238.53198, 238.53198, 239.9138, 238.53198, 239.9138, 238.53198, 237.15813, 238.53198, 238.53198, 238.53198, 237.15813, 235.79219, 235.79219, 235.79219, 235.79219, 235.79219, 235.79219, 235.79219, 235.79219, 235.79219, 237.15813, 237.15813, 237.15813, 237.15813, 237.15813, 238.53198, 238.53198, 237.15813, 237.15813, 237.15813, 237.15813, 237.15813, 237.15813, 235.79219, 235.79219, 235.79219, 235.79219, 237.15813, 237.15813, 237.15813, 235.79219, 235.79219, 237.15813, 237.15813, 237.15813, 237.15813, 238.53198, 238.53198, 238.53198, 238.53198, 237.15813, 235.79219, 234.43413, 234.43413, 234.43413, 235.79219, 237.15813, 238.53198, 239.9138, 239.9138, 241.3036, 239.9138, 238.53198, 235.79219, 234.43413, 233.08386, 231.7414, 233.08386, 233.08386, 234.43413, 238.53198, 239.9138, 241.3036, 241.3036, 241.3036, 239.9138, 237.15813, 235.79219, 234.43413, 234.43413, 234.43413, 235.79219, 235.79219, 237.15813, 238.53198, 238.53198, 238.53198, 238.53198, 238.53198, 237.15813, 237.15813, 237.15813, 237.15813, 237.15813, 237.15813, 237.15813, 238.53198, 238.53198, 237.15813, 238.53198, 238.53198, 238.53198, 238.53198, 237.15813, 237.15813, 237.15813, 237.15813, 235.79219, 235.79219, 237.15813, 237.15813, 237.15813, 237.15813, 238.53198, 237.15813, 237.15813, 237.15813, 237.15813, 237.15813, 237.15813, 237.15813, 238.53198, 238.53198, 238.53198, 238.53198, 238.53198, 238.53198, 238.53198, 238.53198, 237.15813, 237.15813, 237.15813, 237.15813, 237.15813, 237.15813, 237.15813, 237.15813, 237.15813, 238.53198, 237.15813, 237.15813, 237.15813, 237.15813, 237.15813, 235.79219, 235.79219, 235.79219, 235.79219, 237.15813, 237.15813, 237.15813, 237.15813, 237.15813, 237.15813, 237.15813, 237.15813, 237.15813, 237.15813, 237.15813, 237.15813, 237.15813, 237.15813, 237.15813, 237.15813, 237.15813, 237.15813, 237.15813, 237.15813, 237.15813, 237.15813, 237.15813, 238.53198, 238.53198, 238.53198, 238.53198, 238.53198, 238.53198, 238.53198, 238.53198, 237.15813, 237.15813, 237.15813, 237.15813, 234.43413, 233.08386, 231.7414, 229.07962, 220.00182, 217.47485, 216.22229, 212.50769, 210.06682, 207.65399, 205.26886, 204.0866, 200.58047, 197.13461, 192.63202, 189.32271, 187.14813, 186.07022, 184.99854, 183.93301, 182.87364, 182.87364, 181.82036, 181.82036, 181.82036, 180.77315, 180.77315, 180.77315, 180.77315, 180.77315, 180.77315, 179.73195, 178.69678, 178.69678, 177.66754, 179.73195, 180.77315, 180.77315, 178.69678, 176.64426, 176.64426, 175.62685, 176.64426, 175.62685, 176.64426, 177.66754, 180.77315, 181.82036, 181.82036, 177.66754, 174.61531, 173.60959, 173.60959, 173.60959, 174.61531, 174.61531, 176.64426, 177.66754, 176.64426, 118.578575, 117.21658, 117.21658, 117.21658, 117.895615, 118.578575, 119.2655, 119.2655, 120.65131, 122.053215, 119.956406, 119.956406, 120.65131, 122.053215, 121.350235, 119.956406, 119.2655, 119.2655, 116.54146, 117.21658, 117.21658, 117.895615, 118.578575, 119.2655, 119.2655, 119.2655, 119.956406, 119.2655, 119.2655, 119.956406, 119.2655, 118.578575, 118.578575, 118.578575, 118.578575, 118.578575, 118.578575, 118.578575, 118.578575, 117.895615, 117.895615, 118.578575, 118.578575, 118.578575, 118.578575, 118.578575, 118.578575, 118.578575, 118.578575, 118.578575, 118.578575, 118.578575, 118.578575, 118.578575, 118.578575, 118.578575, 118.578575, 118.578575, 118.578575, 118.578575, 118.578575, 118.578575, 118.578575, 118.578575, 118.578575, 118.578575, 118.578575, 118.578575, 118.578575, 118.578575, 118.578575, 118.578575, 118.578575, 118.578575, 118.578575, 118.578575, 117.895615, 117.895615, 117.895615, 117.21658, 117.21658, 117.21658, 116.54146, 116.54146, 116.54146, 117.21658, 117.21658, 117.21658, 117.21658, 117.895615, 117.895615, 116.54146, 116.54146, 117.21658, 117.21658, 117.895615, 118.578575, 119.2655, 119.956406, 120.65131, 119.956406, 119.956406, 119.2655, 119.2655, 118.578575, 117.895615, 117.21658, 117.21658, 117.895615, 118.578575, 117.895615, 117.21658, 115.870224, 119.2655, 121.350235, 120.65131, 120.65131, 121.350235, 120.65131, 119.956406, 122.76027, 234.43413, 233.08386, 234.43413, 235.79219, 235.79219, 237.15813, 237.15813, 237.15813, 235.79219, 235.79219, 235.79219, 235.79219, 235.79219, 234.43413, 235.79219, 235.79219, 237.15813, 237.15813, 237.15813, 237.15813, 238.53198, 238.53198, 238.53198, 238.53198, 238.53198, 238.53198, 238.53198, 238.53198, 237.15813, 235.79219, 234.43413, 233.08386, 234.43413, 233.08386, 234.43413, 234.43413, 235.79219, 235.79219, 235.79219, 237.15813, 235.79219, 235.79219, 234.43413, 235.79219, 235.79219, 235.79219, 237.15813, 237.15813, 237.15813, 237.15813, 237.15813, 237.15813, 237.15813, 235.79219, 235.79219, 235.79219, 235.79219, 237.15813, 237.15813, 237.15813, 237.15813, 237.15813, 237.15813, 237.15813, 237.15813, 237.15813, 237.15813, 237.15813, 237.15813, 237.15813, 237.15813, 237.15813, 237.15813, 237.15813, 237.15813, 237.15813, 237.15813, 238.53198, 238.53198, 238.53198, 238.53198, 237.15813, 237.15813, 237.15813, 237.15813, 237.15813, 237.15813, 237.15813, 237.15813, 237.15813, 237.15813, 237.15813, 237.15813, 237.15813, 237.15813, 237.15813, 237.15813, 237.15813, 237.15813, 237.15813, 237.15813, 237.15813, 237.15813, 237.15813, 237.15813, 237.15813, 237.15813, 237.15813, 237.15813, 237.15813, 237.15813, 238.53198, 238.53198, 238.53198, 238.53198, 238.53198, 237.15813, 237.15813, 237.15813, 237.15813, 237.15813, 237.15813, 237.15813, 237.15813, 237.15813, 237.15813, 237.15813, 235.79219, 237.15813, 237.15813, 238.53198, 238.53198, 239.9138, 241.3036, 239.9138, 239.9138, 238.53198, 237.15813, 233.08386, 229.07962, 226.44838, 229.07962, 229.07962, 231.7414, 235.79219, 238.53198, 238.53198, 238.53198, 238.53198, 237.15813, 234.43413, 233.08386, 234.43413, 234.43413, 234.43413, 235.79219, 235.79219, 237.15813, 238.53198, 238.53198, 238.53198, 237.15813, 237.15813, 238.53198, 235.79219, 234.43413, 234.43413, 234.43413, 234.43413, 235.79219, 237.15813, 237.15813, 238.53198, 239.9138, 239.9138, 239.9138, 238.53198, 235.79219, 237.15813, 238.53198, 238.53198, 238.53198, 237.15813, 235.79219, 234.43413, 234.43413, 235.79219, 235.79219, 235.79219, 235.79219, 235.79219, 235.79219, 235.79219, 235.79219, 235.79219, 237.15813, 238.53198, 238.53198, 238.53198, 237.15813, 237.15813, 237.15813, 235.79219, 237.15813, 237.15813, 235.79219, 237.15813, 237.15813, 237.15813, 238.53198, 237.15813, 235.79219, 235.79219, 235.79219, 234.43413, 235.79219, 235.79219, 235.79219, 235.79219, 235.79219, 235.79219, 237.15813, 237.15813, 237.15813, 237.15813, 237.15813, 237.15813, 237.15813, 235.79219, 235.79219, 235.79219, 235.79219, 235.79219, 235.79219, 237.15813, 237.15813, 237.15813, 238.53198, 238.53198, 238.53198, 237.15813, 235.79219, 235.79219, 235.79219, 235.79219, 234.43413, 235.79219, 235.79219, 237.15813, 237.15813, 238.53198, 238.53198, 238.53198, 237.15813, 235.79219, 235.79219, 235.79219, 235.79219, 237.15813, 237.15813, 237.15813, 237.15813, 237.15813, 237.15813, 237.15813, 235.79219, 234.43413, 234.43413, 235.79219, 235.79219, 235.79219, 237.15813, 237.15813, 238.53198, 237.15813, 237.15813, 235.79219, 235.79219, 233.08386, 233.08386, 234.43413, 235.79219, 235.79219, 235.79219, 235.79219, 237.15813, 237.15813, 237.15813, 237.15813, 237.15813, 238.53198, 238.53198, 237.15813, 237.15813, 237.15813, 237.15813, 237.15813, 237.15813, 237.15813, 237.15813, 237.15813, 237.15813, 237.15813, 237.15813, 235.79219, 235.79219, 235.79219, 235.79219, 235.79219, 235.79219, 235.79219, 235.79219, 237.15813, 237.15813, 237.15813, 237.15813, 235.79219, 235.79219, 235.79219, 235.79219, 235.79219, 235.79219, 235.79219, 238.53198, 239.9138, 239.9138, 239.9138, 239.9138, 239.9138, 238.53198, 237.15813, 237.15813, 237.15813, 234.43413, 233.08386, 234.43413, 237.15813, 238.53198, 238.53198, 235.79219, 234.43413, 234.43413, 235.79219, 234.43413, 234.43413, 234.43413, 235.79219, 235.79219, 237.15813, 237.15813, 237.15813, 237.15813, 237.15813, 237.15813, 237.15813, 235.79219, 235.79219, 237.15813, 237.15813, 237.15813, 238.53198, 239.9138, 241.3036, 244.10742, 244.10742, 242.70148, 241.3036, 234.43413, 233.08386, 230.40665, 231.7414, 227.76021, 237.15813, 238.53198, 234.43413, 235.79219, 237.15813, 237.15813, 233.08386, 238.53198, 237.15813, 237.15813, 238.53198, 238.53198, 238.53198, 239.9138, 238.53198, 235.79219, 235.79219, 235.79219, 237.15813, 237.15813, 238.53198, 238.53198, 239.9138, 239.9138, 241.3036, 241.3036, 239.9138, 239.9138, 237.15813, 235.79219, 235.79219, 234.43413, 234.43413, 234.43413, 235.79219, 237.15813, 238.53198, 239.9138, 239.9138, 238.53198, 239.9138, 239.9138, 239.9138, 238.53198, 238.53198, 238.53198, 239.9138, 239.9138, 239.9138, 239.9138, 239.9138, 239.9138, 238.53198, 235.79219, 235.79219, 233.08386, 231.7414, 231.7414, 231.7414, 233.08386, 235.79219, 237.15813, 237.15813, 239.9138, 239.9138, 239.9138, 238.53198, 237.15813, 235.79219, 235.79219, 235.79219, 235.79219, 237.15813, 237.15813, 238.53198, 238.53198, 238.53198, 238.53198, 237.15813, 235.79219, 235.79219, 234.43413, 234.43413, 234.43413, 234.43413, 235.79219, 235.79219, 237.15813, 237.15813, 238.53198, 238.53198, 237.15813, 237.15813, 237.15813, 235.79219, 235.79219, 234.43413, 233.08386, 233.08386, 233.08386, 233.08386, 233.08386, 234.43413, 234.43413, 235.79219, 235.79219, 235.79219, 235.79219, 235.79219, 237.15813, 237.15813, 237.15813, 237.15813, 237.15813, 237.15813, 237.15813, 237.15813, 237.15813, 235.79219, 237.15813, 238.53198, 238.53198, 237.15813, 237.15813, 237.15813, 237.15813, 237.15813, 237.15813, 235.79219, 237.15813, 237.15813, 237.15813, 238.53198, 238.53198, 238.53198, 238.53198, 238.53198, 238.53198, 237.15813, 237.15813, 237.15813, 235.79219, 237.15813, 237.15813, 237.15813, 237.15813, 235.79219, 235.79219, 235.79219, 237.15813, 235.79219, 235.79219, 235.79219, 235.79219, 235.79219, 235.79219, 234.43413, 234.43413, 234.43413, 234.43413, 235.79219, 237.15813, 237.15813, 237.15813, 237.15813, 238.53198, 238.53198, 238.53198, 237.15813, 237.15813, 237.15813, 237.15813, 237.15813, 237.15813, 238.53198, 237.15813, 237.15813, 238.53198, 238.53198, 238.53198, 237.15813, 237.15813, 237.15813, 237.15813, 237.15813, 237.15813, 238.53198, 238.53198, 239.9138, 238.53198, 238.53198, 237.15813, 235.79219, 234.43413, 234.43413, 233.08386, 235.79219, 235.79219, 235.79219, 235.79219, 233.08386, 235.79219, 237.15813, 237.15813, 237.15813, 237.15813, 237.15813, 237.15813, 238.53198, 238.53198, 239.9138, 239.9138, 238.53198, 238.53198, 237.15813, 235.79219, 235.79219, 235.79219, 235.79219, 235.79219, 238.53198, 239.9138, 242.70148, 242.70148, 239.9138, 237.15813, 237.15813, 235.79219, 234.43413, 234.43413, 234.43413, 235.79219, 237.15813, 238.53198, 238.53198, 238.53198, 238.53198, 238.53198, 238.53198, 238.53198, 237.15813, 237.15813, 237.15813, 238.53198, 238.53198, 238.53198, 212.50769, 212.50769, 211.28374, 211.28374, 211.28374, 211.28374, 212.50769, 212.50769, 212.50769, 212.50769, 212.50769, 212.50769, 212.50769, 211.28374, 211.28374, 211.28374, 211.28374, 211.28374, 211.28374, 211.28374, 212.50769, 212.50769, 212.50769, 212.50769, 211.28374, 211.28374, 211.28374, 210.06682, 208.85692, 206.45798, 206.45798, 204.0866, 200.58047, 195.99919, 191.52254, 186.07022, 182.87364, 181.82036, 181.82036, 181.82036, 182.87364, 184.99854, 186.07022, 188.23227, 188.23227, 189.32271, 188.23227, 187.14813, 184.99854, 181.82036, 179.73195, 133.8711, 135.4266, 136.21114, 136.21114, 135.4266, 134.6466, 134.6466, 133.8711, 133.8711, 133.8711, 133.8711, 133.8711, 133.10004, 133.10004, 133.10004, 133.8711, 134.6466, 134.6466, 134.6466, 133.8711, 133.8711, 133.10004, 133.10004, 133.10004, 133.8711, 134.6466, 133.8711, 133.8711, 133.8711, 133.8711, 133.8711, 133.8711, 133.8711, 133.8711, 133.10004, 133.10004, 133.10004, 132.33345, 133.10004, 133.10004, 133.8711, 133.8711, 133.8711, 133.8711, 133.8711, 133.8711, 133.8711, 133.8711, 133.10004, 133.10004, 133.10004, 133.10004, 133.10004, 133.10004, 133.8711, 133.8711, 133.8711, 133.8711, 133.8711, 133.8711, 133.8711, 133.8711, 133.8711, 133.10004, 132.33345, 131.57124, 130.81345, 130.06001, 130.06001, 130.06001, 119.2655, 119.2655, 119.2655, 119.2655, 118.578575, 118.578575, 117.895615, 117.895615, 118.578575, 118.578575, 119.2655, 119.956406, 119.2655, 119.956406, 119.956406, 119.2655, 118.578575, 118.578575, 118.578575, 117.895615, 117.895615, 117.21658, 117.895615, 118.578575, 119.2655, 119.956406, 120.65131, 121.350235, 122.76027, 124.9061, 127.82566, 130.06001, 131.57124, 132.33345, 133.10004, 133.8711, 132.33345, 131.57124, 130.81345, 131.57124, 131.57124, 133.10004, 133.8711, 134.6466, 133.8711, 133.8711, 133.10004, 133.10004, 133.8711, 133.8711, 134.6466, 134.6466, 133.8711, 133.10004, 133.10004, 133.10004, 133.8711, 134.6466, 135.4266, 135.4266, 133.8711, 132.33345, 117.21658, 118.578575, 119.956406, 121.350235, 122.053215, 122.053215, 119.956406, 119.2655, 115.870224, 116.54146, 119.2655, 118.578575, 119.2655, 119.2655, 120.65131, 120.65131, 121.350235, 121.350235, 121.350235, 119.956406, 118.578575, 117.895615, 117.21658, 117.21658, 117.895615, 118.578575, 119.2655, 120.65131, 121.350235, 122.053215, 121.350235, 120.65131, 119.2655, 119.2655, 119.2655, 117.895615, 118.578575, 119.2655, 119.956406, 120.65131, 122.053215, 121.350235, 119.956406, 118.578575, 118.578575, 117.895615, 117.895615, 117.895615, 118.578575, 119.2655, 119.956406, 121.350235, 122.76027, 126.357445, 128.56613, 129.31091, 130.06001, 133.10004, 134.6466, 134.6466, 130.81345, 132.33345, 133.8711, 133.8711, 133.8711, 133.8711, 131.57124, 130.06001, 131.57124, 132.33345, 133.10004, 134.6466, 134.6466, 133.8711, 132.33345, 130.81345, 132.33345, 132.33345, 133.10004, 133.10004, 133.10004, 132.33345, 130.81345, 132.33345, 133.10004, 133.8711, 133.8711, 133.8711, 133.10004, 131.57124, 129.31091, 131.57124, 132.33345, 133.8711, 133.8711, 134.6466, 175.62685, 177.66754, 178.69678, 178.69678, 177.66754, 173.60959, 170.62706, 164.81485, 164.81485, 165.76962, 166.72992, 167.69577, 169.64432, 171.61551, 170.62706, 171.61551, 172.60966, 173.60959, 173.60959, 173.60959, 172.60966, 172.60966, 172.60966, 172.60966, 172.60966, 171.61551, 171.61551, 170.62706, 170.62706, 169.64432, 169.64432, 166.72992, 165.76962, 165.76962, 164.81485, 162.92178, 161.98341, 161.05045, 161.05045, 160.12286, 168.66724, 164.81485, 163.86559, 164.81485, 164.81485, 163.86559, 163.86559, 163.86559, 164.81485, 165.76962, 164.81485, 165.76962, 169.64432, 170.62706, 172.60966, 173.60959, 175.62685, 178.69678, 180.77315, 183.93301, 189.32271, 192.63202, 194.87032, 197.13461, 200.58047, 205.26886, 204.0866, 204.0866, 204.0866, 202.91112, 201.74243, 197.13461, 193.74794, 190.41943, 186.07022, 183.93301, 182.87364, 182.87364, 181.82036, 181.82036, 182.87364, 186.07022, 186.07022, 187.14813, 184.99854, 183.93301, 181.82036, 179.73195, 177.66754, 177.66754, 177.66754, 177.66754, 178.69678, 179.73195, 180.77315, 181.82036, 180.77315, 180.77315, 178.69678, 177.66754, 176.64426, 176.64426, 176.64426, 177.66754, 178.69678, 178.69678, 178.69678, 177.66754, 176.64426, 176.64426, 176.64426, 176.64426, 176.64426, 177.66754, 178.69678, 212.50769, 212.50769, 213.73874, 212.50769, 212.50769, 211.28374, 211.28374, 211.28374, 211.28374, 211.28374, 211.28374, 211.28374, 211.28374, 211.28374, 211.28374, 211.28374, 211.28374, 211.28374, 211.28374, 212.50769, 212.50769, 212.50769, 212.50769, 211.28374, 211.28374, 211.28374, 211.28374, 211.28374, 211.28374, 211.28374, 211.28374, 211.28374, 211.28374, 211.28374, 211.28374, 210.06682, 211.28374, 211.28374, 213.73874, 213.73874, 213.73874, 474.3182, 474.3182, 474.3182, 471.58633, 468.87015, 471.58633, 474.3182, 471.58633, 471.58633, 474.3182, 477.0659, 479.82956, 482.6092, 482.6092, 485.40494, 485.40494, 485.40494, 488.2169, 488.2169, 488.2169, 488.2169, 488.2169, 491.0451, 491.0451, 491.0451, 488.2169, 488.2169, 488.2169, 485.40494, 485.40494, 485.40494, 482.6092, 485.40494, 485.40494, 482.6092, 488.2169, 485.40494, 216.22229, 217.47485, 216.22229, 214.97693, 213.73874, 207.65399, 213.73874, 213.73874, 213.73874, 208.85692, 210.06682, 211.28374, 211.28374, 211.28374, 208.85692, 210.06682, 210.06682, 211.28374, 211.28374, 211.28374, 213.73874, 213.73874, 214.97693, 460.8152, 466.16965, 466.16965, 466.16965, 466.16965, 466.16965, 468.87015, 468.87015, 471.58633, 474.3182, 479.82956, 479.82956, 479.82956, 479.82956, 479.82956, 479.82956, 479.82956, 479.82956, 477.0659, 477.0659, 474.3182, 474.3182, 474.3182, 477.0659, 477.0659, 477.0659, 477.0659, 477.0659, 474.3182, 474.3182, 471.58633, 471.58633, 468.87015, 466.16965, 466.16965, 460.8152, 460.8152, 455.52225, 452.89865, 447.6966, 445.11807, 440.0054, 434.95148, 425.01712, 412.91766, 405.8239, 398.85208, 392.0, 387.49747, 383.04663, 380.84045, 376.4661, 374.29782, 367.86755, 365.74878, 361.54776, 355.33655, 353.28995, 349.23206, 345.22076, 341.25552, 339.29004, 337.33585, 337.33585, 335.39294, 335.39294, 333.4612, 331.5406, 331.5406, 329.63104, 329.63104, 329.63104, 329.63104, 329.63104, 331.5406, 333.4612, 333.4612, 333.4612, 335.39294, 337.33585, 339.29004, 339.29004, 341.25552, 343.23242, 343.23242, 345.22076, 345.22076, 347.2206, 347.2206, 347.2206, 349.23206, 349.23206, 349.23206, 351.25513, 351.25513, 351.25513, 351.25513, 351.25513, 351.25513, 351.25513, 349.23206, 349.23206, 347.2206, 347.2206, 347.2206, 347.2206, 345.22076, 345.22076, 345.22076, 345.22076, 343.23242, 343.23242, 345.22076, 343.23242, 374.29782, 383.04663, 387.49747, 392.0, 396.55484, 398.85208, 398.85208, 398.85208, 401.1626, 401.1626, 401.1626, 401.1626, 401.1626, 403.48654, 403.48654, 405.8239, 408.17487, 412.91766, 417.71555, 417.71555, 420.13535, 420.13535, 422.5692, 420.13535, 420.13535, 420.13535, 417.71555, 417.71555, 417.71555, 415.30966, 415.30966, 415.30966, 412.91766, 412.91766, 410.5394, 410.5394, 408.17487, 408.17487, 405.8239, 405.8239, 401.1626, 398.85208, 396.55484, 396.55484, 396.55484, 398.85208, 403.48654, 410.5394, 412.91766, 410.5394, 410.5394, 412.91766, 410.5394, 410.5394, 410.5394, 412.91766, 415.30966, 417.71555, 415.30966, 415.30966, 412.91766, 408.17487, 405.8239, 403.48654, 401.1626, 398.85208, 398.85208, 401.1626, 410.5394, 412.91766, 415.30966, 417.71555, 417.71555, 417.71555, 415.30966, 412.91766, 410.5394, 410.5394, 410.5394, 410.5394, 410.5394, 410.5394, 410.5394, 408.17487, 405.8239, 398.85208, 398.85208, 396.55484, 398.85208, 403.48654, 403.48654, 415.30966, 410.5394, 408.17487, 408.17487, 403.48654, 398.85208, 394.2708, 396.55484, 396.55484, 398.85208, 398.85208, 401.1626, 405.8239, 410.5394, 415.30966, 420.13535, 422.5692, 422.5692, 422.5692, 422.5692, 425.01712, 425.01712, 422.5692, 425.01712, 425.01712, 425.01712, 427.47925, 427.47925, 429.9556, 429.9556, 432.44635, 432.44635, 434.95148, 434.95148, 434.95148, 434.95148, 434.95148, 434.95148, 434.95148, 432.44635, 429.9556, 429.9556, 427.47925, 425.01712, 422.5692, 422.5692, 420.13535, 420.13535, 420.13535, 420.13535, 420.13535, 417.71555, 415.30966, 415.30966, 415.30966, 410.5394, 410.5394, 408.17487, 408.17487, 405.8239, 408.17487, 408.17487, 410.5394, 410.5394, 412.91766, 412.91766, 412.91766, 415.30966, 417.71555, 420.13535, 422.5692, 422.5692, 425.01712, 427.47925, 427.47925, 427.47925, 429.9556, 429.9556, 432.44635, 432.44635, 432.44635, 434.95148, 434.95148, 437.47116, 437.47116, 434.95148, 434.95148, 437.47116, 434.95148, 434.95148, 434.95148, 432.44635, 432.44635, 429.9556, 425.01712, 425.01712, 427.47925, 427.47925, 429.9556, 429.9556, 429.9556, 434.95148, 429.9556, 432.44635, 429.9556, 432.44635, 437.47116, 442.55435, 447.6966, 447.6966, 447.6966, 447.6966, 447.6966, 445.11807, 447.6966, 447.6966, 447.6966, 447.6966, 447.6966, 450.2901, 450.2901, 455.52225, 458.1611, 460.8152, 463.48468, 466.16965, 466.16965, 468.87015, 471.58633, 474.3182, 477.0659, 477.0659, 477.0659, 479.82956, 482.6092, 482.6092, 482.6092, 482.6092, 482.6092, 485.40494, 482.6092, 482.6092, 482.6092, 482.6092, 482.6092, 482.6092, 479.82956, 479.82956, 479.82956, 479.82956, 474.3182, 474.3182, 471.58633, 359.4654, 361.54776, 361.54776, 361.54776, 361.54776, 359.4654, 359.4654, 357.39502, 355.33655, 357.39502, 357.39502, 357.39502, 357.39502, 357.39502, 357.39502, 357.39502, 357.39502, 357.39502, 357.39502, 357.39502, 355.33655, 355.33655, 355.33655, 355.33655, 355.33655, 355.33655, 357.39502, 357.39502, 357.39502, 355.33655, 355.33655, 355.33655, 355.33655, 355.33655, 355.33655, 355.33655, 357.39502, 359.4654, 355.33655, 347.2206, 345.22076, 349.23206, 357.39502, 353.28995, 351.25513, 351.25513, 351.25513, 349.23206, 349.23206, 347.2206, 347.2206, 345.22076, 345.22076, 345.22076, 347.2206, 347.2206, 349.23206, 351.25513, 353.28995, 353.28995, 355.33655, 357.39502, 359.4654, 361.54776, 361.54776, 363.64218, 363.64218, 363.64218, 363.64218, 363.64218, 361.54776, 361.54776, 361.54776, 359.4654, 359.4654, 359.4654, 359.4654, 361.54776, 361.54776, 363.64218, 365.74878, 367.86755, 369.9986, 367.86755, 365.74878, 367.86755, 367.86755, 365.74878, 365.74878, 367.86755, 365.74878, 365.74878, 363.64218, 363.64218, 359.4654, 361.54776, 361.54776, 359.4654, 359.4654, 359.4654, 357.39502, 355.33655, 353.28995, 351.25513, 353.28995, 353.28995, 353.28995, 353.28995, 353.28995, 351.25513, 351.25513, 345.22076, 351.25513, 361.54776, 363.64218, 363.64218, 365.74878, 365.74878, 365.74878, 365.74878, 365.74878, 363.64218, 361.54776, 363.64218, 365.74878, 365.74878, 367.86755, 367.86755, 367.86755, 359.4654, 361.54776, 363.64218, 363.64218, 363.64218, 363.64218, 374.29782, 383.04663, 392.0, 396.55484, 398.85208, 398.85208, 401.1626, 403.48654, 405.8239, 408.17487, 410.5394, 412.91766, 415.30966, 417.71555, 422.5692, 427.47925, 427.47925, 427.47925, 429.9556, 429.9556, 429.9556, 429.9556, 432.44635, 434.95148, 434.95148, 434.95148, 434.95148, 434.95148, 432.44635, 429.9556, 427.47925, 425.01712, 422.5692, 422.5692, 420.13535, 420.13535, 417.71555, 415.30966, 412.91766, 412.91766, 410.5394, 408.17487, 408.17487, 408.17487, 408.17487, 410.5394, 410.5394, 410.5394, 410.5394, 415.30966, 420.13535, 420.13535, 422.5692, 422.5692, 425.01712, 425.01712, 427.47925, 425.01712, 412.91766, 422.5692, 427.47925, 427.47925, 429.9556, 429.9556, 429.9556, 429.9556, 429.9556, 429.9556, 432.44635, 432.44635, 432.44635, 434.95148, 437.47116, 437.47116, 434.95148, 408.17487, 408.17487, 410.5394, 410.5394, 410.5394, 408.17487, 405.8239, 405.8239, 403.48654, 401.1626, 398.85208, 396.55484, 394.2708, 392.0, 389.74222, 387.49747, 385.26562, 383.04663, 376.4661, 363.64218, 359.4654, 357.39502, 353.28995, 349.23206, 343.23242, 335.39294, 333.4612, 329.63104, 329.63104, 325.8449, 323.96814, 322.1022, 318.40253, 318.40253, 314.74536, 312.93253, 311.1302, 309.33817, 307.55652, 305.7851, 305.7851, 304.02393, 300.53186, 298.80093, 295.36887, 290.29462, 285.3075, 283.6642, 282.03043, 283.6642, 282.03043, 282.03043, 278.79102, 274.00153, 269.2943, 264.66797, 263.1436, 264.66797, 264.66797, 266.2012, 269.2943, 341.25552, 341.25552, 341.25552, 341.25552, 341.25552, 339.29004, 339.29004, 337.33585, 333.4612, 333.4612, 331.5406, 327.73248, 325.8449, 322.1022, 320.24704, 320.24704, 318.40253, 318.40253, 316.56866, 316.56866, 314.74536, 312.93253, 312.93253, 311.1302, 309.33817, 309.33817, 309.33817, 309.33817, 309.33817, 311.1302, 312.93253, 314.74536, 320.24704, 329.63104, 331.5406, 331.5406, 329.63104, 327.73248, 327.73248, 329.63104, 337.33585, 347.2206, 351.25513, 355.33655, 355.33655, 359.4654, 361.54776, 361.54776, 361.54776, 359.4654, 359.4654, 359.4654, 357.39502, 355.33655, 351.25513, 351.25513, 415.30966, 410.5394, 394.2708, 396.55484, 394.2708, 389.74222, 387.49747, 383.04663, 378.64694, 369.9986, 363.64218, 359.4654, 355.33655, 357.39502, 359.4654, 363.64218, 363.64218, 367.86755, 369.9986, 369.9986, 372.14197, 372.14197, 374.29782, 374.29782, 376.4661, 376.4661, 376.4661, 378.64694, 378.64694, 378.64694, 378.64694, 376.4661, 372.14197, 367.86755, 361.54776, 357.39502, 355.33655, 355.33655, 351.25513, 349.23206, 347.2206, 345.22076, 345.22076, 343.23242, 341.25552, 337.33585, 337.33585, 335.39294, 335.39294, 337.33585, 337.33585, 337.33585, 339.29004, 341.25552, 343.23242, 343.23242, 345.22076, 345.22076, 347.2206, 351.25513, 353.28995, 355.33655, 357.39502, 359.4654, 361.54776, 361.54776, 363.64218, 363.64218, 365.74878, 365.74878, 367.86755, 369.9986, 369.9986, 372.14197, 372.14197, 372.14197, 374.29782, 372.14197, 372.14197, 372.14197, 372.14197, 369.9986, 367.86755, 367.86755, 365.74878, 361.54776, 353.28995, 347.2206, 343.23242, 343.23242, 341.25552, 341.25552, 339.29004, 339.29004, 339.29004, 337.33585, 335.39294, 333.4612, 331.5406, 327.73248, 327.73248, 323.96814, 325.8449, 325.8449, 327.73248, 335.39294, 347.2206, 357.39502, 359.4654, 359.4654, 359.4654, 361.54776, 363.64218, 365.74878, 367.86755, 372.14197, 372.14197, 374.29782, 374.29782, 374.29782, 374.29782, 374.29782, 378.64694, 378.64694, 378.64694, 380.84045, 380.84045, 380.84045, 380.84045, 380.84045, 380.84045, 378.64694, 378.64694, 374.29782, 374.29782, 372.14197, 372.14197, 372.14197, 372.14197, 372.14197, 372.14197, 372.14197, 372.14197, 369.9986, 367.86755, 365.74878, 363.64218, 361.54776, 359.4654, 359.4654, 355.33655, 353.28995, 351.25513, 351.25513, 349.23206, 347.2206, 345.22076, 345.22076, 343.23242, 341.25552, 337.33585, 333.4612, 333.4612, 216.22229, 213.73874, 211.28374, 208.85692, 207.65399, 205.26886, 202.91112, 200.58047, 198.2766, 191.52254, 186.07022, 182.87364, 182.87364, 182.87364, 181.82036, 181.82036, 181.82036, 181.82036, 181.82036, 181.82036, 181.82036, 181.82036, 180.77315, 180.77315, 179.73195, 179.73195, 178.69678, 179.73195, 179.73195, 179.73195, 180.77315, 180.77315, 177.66754, 177.66754, 177.66754, 179.73195, 178.69678, 177.66754, 644.2071, 640.4967, 636.8077, 633.1399, 633.1399, 629.4933, 629.4933, 629.4933, 633.1399, 633.1399, 633.1399, 636.8077, 636.8077, 636.8077, 636.8077, 640.4967, 636.8077, 636.8077, 636.8077, 636.8077, 636.8077, 636.8077, 640.4967, 640.4967, 636.8077, 640.4967, 640.4967, 636.8077, 636.8077, 636.8077, 636.8077, 636.8077, 636.8077, 636.8077, 636.8077, 517.2479, 511.30676, 511.30676, 511.30676, 514.2688, 517.2479, 520.2443, 523.2581, 529.33813, 532.40454, 535.4888, 538.5908, 541.7109, 544.849, 544.849, 548.0053, 548.0053, 548.0053, 551.1799, 551.1799, 551.1799, 551.1799, 551.1799, 548.0053, 544.849, 541.7109, 538.5908, 535.4888, 532.40454, 529.33813, 526.28937, 523.2581, 523.2581, 523.2581, 535.4888, 541.7109, 548.0053, 544.849, 544.849, 541.7109, 538.5908, 541.7109, 548.0053, 544.849, 541.7109, 541.7109, 541.7109, 538.5908, 532.40454, 529.33813, 529.33813, 526.28937, 526.28937, 526.28937, 529.33813, 523.2581, 493.8897, 493.8897, 491.0451, 488.2169, 485.40494, 482.6092, 482.6092, 485.40494, 488.2169, 491.0451, 493.8897, 493.8897, 493.8897, 496.7508, 499.62848, 499.62848, 499.62848, 502.5228, 505.43393, 508.36185, 508.36185, 511.30676, 517.2479, 514.2688, 517.2479, 517.2479, 520.2443, 520.2443, 523.2581, 526.28937, 526.28937, 526.28937, 526.28937, 526.28937, 526.28937, 529.33813, 526.28937, 529.33813, 529.33813, 529.33813, 529.33813, 529.33813, 529.33813, 532.40454, 532.40454, 532.40454, 532.40454, 532.40454, 532.40454, 529.33813, 529.33813, 529.33813, 529.33813, 529.33813, 529.33813, 529.33813, 488.2169, 485.40494, 485.40494, 482.6092, 482.6092, 482.6092, 482.6092, 485.40494, 496.7508, 496.7508, 493.8897, 493.8897, 493.8897, 493.8897, 493.8897, 491.0451, 491.0451, 488.2169, 488.2169, 485.40494, 482.6092, 479.82956, 477.0659, 477.0659, 474.3182, 474.3182, 474.3182, 474.3182, 474.3182, 474.3182, 474.3182, 477.0659, 477.0659, 479.82956, 479.82956, 482.6092, 485.40494, 485.40494, 488.2169, 491.0451, 493.8897, 493.8897, 493.8897, 496.7508, 496.7508, 493.8897, 493.8897, 491.0451, 491.0451, 491.0451, 491.0451, 493.8897, 493.8897, 493.8897, 496.7508, 496.7508, 499.62848, 499.62848, 499.62848, 502.5228, 502.5228, 502.5228, 502.5228, 505.43393, 508.36185, 511.30676, 520.2443, 523.2581, 523.2581, 523.2581, 523.2581, 523.2581, 523.2581, 523.2581, 526.28937, 526.28937, 526.28937, 523.2581, 526.28937, 526.28937, 526.28937, 526.28937, 523.2581, 526.28937, 526.28937, 526.28937, 523.2581, 523.2581, 520.2443, 523.2581, 523.2581, 526.28937, 523.2581, 523.2581, 520.2443, 517.2479, 514.2688, 508.36185, 508.36185, 508.36185, 508.36185, 505.43393, 505.43393, 502.5228, 499.62848, 496.7508, 491.0451, 488.2169, 485.40494, 479.82956, 479.82956, 477.0659, 474.3182, 474.3182, 468.87015, 466.16965, 458.1611, 452.89865, 447.6966, 445.11807, 445.11807, 447.6966, 445.11807, 415.30966, 415.30966, 417.71555, 420.13535, 422.5692, 422.5692, 425.01712, 425.01712, 425.01712, 425.01712, 425.01712, 427.47925, 427.47925, 429.9556, 429.9556, 432.44635, 432.44635, 432.44635, 429.9556, 429.9556, 429.9556, 427.47925, 427.47925, 427.47925, 425.01712, 425.01712, 425.01712, 422.5692, 420.13535, 417.71555, 417.71555, 417.71555, 417.71555, 415.30966, 415.30966, 412.91766, 412.91766, 412.91766, 410.5394, 410.5394, 410.5394, 410.5394, 412.91766, 412.91766, 415.30966, 417.71555, 417.71555, 417.71555, 417.71555, 422.5692, 422.5692, 425.01712, 427.47925, 429.9556, 432.44635, 434.95148, 437.47116, 437.47116, 437.47116, 440.0054, 440.0054, 440.0054, 434.95148, 434.95148, 434.95148, 432.44635, 432.44635, 429.9556, 427.47925, 425.01712, 425.01712, 425.01712, 425.01712, 427.47925, 427.47925, 427.47925, 429.9556, 432.44635, 432.44635, 429.9556, 427.47925, 425.01712, 422.5692, 415.30966, 415.30966, 412.91766, 410.5394, 410.5394, 410.5394, 410.5394, 410.5394, 410.5394, 410.5394, 412.91766, 420.13535, 422.5692, 420.13535, 415.30966, 415.30966, 412.91766, 415.30966, 415.30966, 417.71555, 420.13535, 425.01712, 427.47925, 429.9556, 429.9556, 429.9556, 432.44635, 432.44635, 432.44635, 432.44635, 432.44635, 434.95148, 434.95148, 434.95148, 434.95148, 434.95148, 432.44635, 432.44635, 429.9556, 429.9556, 429.9556, 427.47925, 427.47925, 427.47925, 425.01712, 425.01712, 425.01712, 422.5692, 420.13535, 420.13535, 420.13535, 415.30966, 415.30966, 412.91766, 408.17487, 408.17487, 408.17487, 403.48654, 405.8239, 403.48654, 401.1626, 403.48654, 403.48654, 432.44635, 429.9556, 427.47925, 422.5692, 417.71555, 417.71555, 412.91766, 417.71555, 420.13535, 420.13535, 422.5692, 425.01712, 427.47925, 427.47925, 429.9556, 429.9556, 429.9556, 429.9556, 429.9556, 429.9556, 429.9556, 429.9556, 429.9556, 429.9556, 432.44635, 432.44635, 432.44635, 432.44635, 434.95148, 434.95148, 434.95148, 432.44635, 432.44635, 432.44635, 429.9556, 427.47925, 427.47925, 445.11807, 442.55435, 442.55435, 442.55435, 442.55435, 442.55435, 445.11807, 452.89865, 450.2901, 455.52225, 458.1611, 463.48468, 463.48468, 463.48468, 468.87015, 471.58633, 474.3182, 474.3182, 474.3182, 477.0659, 477.0659, 477.0659, 477.0659, 479.82956, 479.82956, 477.0659, 477.0659, 477.0659, 477.0659, 479.82956, 477.0659, 477.0659, 477.0659, 474.3182, 474.3182, 471.58633, 471.58633, 471.58633, 466.16965, 466.16965, 466.16965, 466.16965, 466.16965, 466.16965, 466.16965, 466.16965, 463.48468, 463.48468, 463.48468, 463.48468, 466.16965, 463.48468, 463.48468, 466.16965, 468.87015, 471.58633, 468.87015, 471.58633, 468.87015, 474.3182, 477.0659, 477.0659, 477.0659, 477.0659, 474.3182, 471.58633, 471.58633, 485.40494, 471.58633, 468.87015, 477.0659, 479.82956, 479.82956, 477.0659, 474.3182, 477.0659, 477.0659, 383.04663, 385.26562, 380.84045, 380.84045, 380.84045, 380.84045, 378.64694, 372.14197, 369.9986, 367.86755, 363.64218, 363.64218, 363.64218, 361.54776, 361.54776, 361.54776, 361.54776, 359.4654, 359.4654, 355.33655, 355.33655, 355.33655, 351.25513, 349.23206, 343.23242, 341.25552, 345.22076, 347.2206, 347.2206, 347.2206, 345.22076, 345.22076, 343.23242, 343.23242, 343.23242, 345.22076, 347.2206, 351.25513, 355.33655, 357.39502, 357.39502, 359.4654, 359.4654, 359.4654, 361.54776, 363.64218, 365.74878, 365.74878, 367.86755, 367.86755, 369.9986, 369.9986, 369.9986, 372.14197, 369.9986, 369.9986, 372.14197, 372.14197, 372.14197, 372.14197, 372.14197, 369.9986, 367.86755, 365.74878, 361.54776, 359.4654, 359.4654, 357.39502, 357.39502, 355.33655, 353.28995, 351.25513, 347.2206, 343.23242, 337.33585, 333.4612, 329.63104, 325.8449, 320.24704, 314.74536, 305.7851, 293.66766, 286.96027, 280.40604, 272.42337, 267.7433, 264.66797, 261.62796, 260.1211, 361.54776, 361.54776, 361.54776, 363.64218, 372.14197, 376.4661, 383.04663, 385.26562, 387.49747, 389.74222, 392.0, 396.55484, 396.55484, 398.85208, 401.1626, 403.48654, 408.17487, 410.5394, 422.5692, 432.44635, 432.44635, 432.44635, 429.9556, 429.9556, 427.47925, 429.9556, 427.47925, 422.5692, 417.71555, 417.71555, 417.71555, 417.71555, 417.71555, 420.13535, 422.5692, 422.5692, 422.5692, 420.13535, 417.71555, 415.30966, 415.30966, 410.5394, 410.5394, 408.17487, 408.17487, 408.17487, 410.5394, 410.5394, 412.91766, 410.5394, 412.91766, 415.30966, 415.30966, 415.30966, 420.13535, 420.13535, 422.5692, 422.5692, 422.5692, 425.01712, 427.47925, 420.13535, 420.13535, 420.13535, 420.13535, 420.13535, 420.13535, 420.13535, 420.13535, 420.13535, 420.13535, 420.13535, 420.13535, 420.13535, 417.71555, 417.71555, 420.13535, 420.13535, 420.13535, 420.13535, 420.13535, 420.13535, 420.13535, 420.13535, 417.71555, 415.30966, 417.71555, 415.30966, 415.30966, 412.91766, 412.91766, 410.5394, 410.5394, 408.17487, 408.17487, 405.8239, 403.48654, 403.48654, 398.85208, 398.85208, 396.55484, 392.0, 389.74222, 385.26562, 383.04663, 378.64694, 376.4661, 376.4661, 374.29782, 374.29782, 374.29782, 378.64694, 380.84045, 597.6043, 594.16235, 597.6043, 597.6043, 601.0662, 597.6043, 594.16235, 594.16235, 590.74023, 590.74023, 590.74023, 594.16235, 608.0503, 625.8676, 636.8077, 636.8077, 636.8077, 636.8077, 644.2071, 647.93896, 647.93896, 647.93896, 644.2071, 644.2071, 640.4967, 636.8077, 644.2071, 644.2071, 640.4967, 640.4967, 636.8077, 636.8077, 633.1399, 633.1399, 633.1399, 636.8077, 636.8077, 633.1399, 636.8077, 636.8077, 636.8077, 640.4967, 640.4967, 640.4967, 644.2071, 644.2071, 644.2071, 644.2071, 644.2071, 640.4967, 640.4967, 640.4967, 640.4967, 636.8077, 636.8077, 636.8077, 636.8077, 636.8077, 633.1399, 633.1399, 633.1399, 633.1399, 633.1399, 633.1399, 633.1399, 633.1399, 633.1399, 629.4933, 633.1399, 629.4933, 629.4933, 629.4933, 633.1399, 633.1399, 633.1399, 633.1399, 633.1399, 633.1399, 633.1399, 633.1399, 633.1399, 633.1399, 633.1399, 633.1399, 636.8077, 788.5449, 788.5449, 788.5449, 793.1129, 355.33655, 357.39502, 357.39502, 353.28995, 351.25513, 353.28995, 353.28995, 357.39502, 357.39502, 359.4654, 359.4654, 359.4654, 357.39502, 357.39502, 355.33655, 355.33655, 355.33655, 353.28995, 353.28995, 353.28995, 353.28995, 355.33655, 355.33655, 355.33655, 355.33655, 357.39502, 357.39502, 357.39502, 357.39502, 357.39502, 355.33655, 355.33655, 355.33655, 357.39502, 355.33655, 353.28995, 353.28995, 355.33655, 355.33655, 355.33655, 357.39502, 357.39502, 359.4654, 361.54776, 363.64218, 361.54776, 361.54776, 361.54776, 359.4654, 353.28995, 353.28995, 351.25513, 351.25513, 349.23206, 349.23206, 349.23206, 349.23206, 351.25513, 353.28995, 353.28995, 355.33655, 357.39502, 359.4654, 361.54776, 363.64218, 363.64218, 365.74878, 367.86755, 369.9986, 369.9986, 372.14197, 369.9986, 369.9986, 369.9986, 367.86755, 365.74878, 363.64218, 363.64218, 361.54776, 361.54776, 361.54776, 359.4654, 357.39502, 355.33655, 353.28995, 351.25513, 349.23206, 349.23206, 347.2206, 345.22076, 345.22076, 345.22076, 345.22076, 345.22076, 347.2206, 347.2206, 351.25513, 349.23206, 351.25513, 351.25513, 353.28995, 353.28995, 353.28995, 353.28995, 355.33655, 353.28995, 353.28995, 351.25513, 353.28995, 353.28995, 355.33655, 357.39502, 359.4654, 363.64218, 365.74878, 369.9986, 369.9986, 374.29782, 376.4661, 378.64694, 378.64694, 378.64694, 376.4661, 372.14197, 365.74878, 363.64218, 361.54776, 361.54776, 359.4654, 359.4654, 359.4654, 361.54776, 361.54776, 365.74878, 365.74878, 367.86755, 363.64218, 361.54776, 357.39502, 355.33655, 353.28995, 353.28995, 351.25513, 349.23206, 349.23206, 349.23206, 349.23206, 349.23206, 349.23206, 351.25513, 353.28995, 355.33655, 355.33655, 357.39502, 357.39502, 359.4654, 359.4654, 359.4654, 361.54776, 361.54776, 361.54776, 363.64218, 363.64218, 365.74878, 365.74878, 365.74878, 365.74878, 365.74878, 365.74878, 365.74878, 365.74878, 363.64218, 363.64218, 363.64218, 363.64218, 363.64218, 363.64218, 361.54776, 361.54776, 357.39502, 357.39502, 355.33655, 355.33655, 353.28995, 351.25513, 349.23206, 349.23206, 349.23206, 347.2206, 345.22076, 343.23242, 341.25552, 341.25552, 341.25552, 343.23242, 345.22076, 347.2206, 347.2206, 347.2206, 347.2206, 349.23206, 349.23206, 351.25513, 355.33655, 365.74878, 372.14197, 369.9986, 369.9986, 365.74878, 365.74878, 361.54776, 359.4654, 359.4654, 361.54776, 361.54776, 361.54776, 359.4654, 357.39502, 353.28995, 714.79297, 714.79297, 355.33655, 357.39502, 359.4654, 361.54776, 361.54776, 363.64218, 363.64218, 363.64218, 363.64218, 363.64218, 363.64218, 363.64218, 363.64218, 363.64218, 361.54776, 361.54776, 359.4654, 359.4654, 359.4654, 359.4654, 357.39502, 357.39502, 355.33655, 355.33655, 353.28995, 351.25513, 351.25513, 349.23206, 347.2206, 347.2206, 347.2206, 349.23206, 353.28995, 353.28995, 357.39502, 363.64218, 369.9986, 374.29782, 374.29782, 372.14197, 369.9986, 365.74878, 363.64218, 359.4654, 355.33655, 355.33655, 355.33655, 355.33655, 355.33655, 355.33655, 355.33655, 355.33655, 355.33655, 355.33655, 355.33655, 353.28995, 357.39502, 357.39502, 357.39502, 357.39502, 357.39502, 359.4654, 357.39502, 357.39502, 355.33655, 355.33655, 353.28995, 353.28995, 353.28995, 353.28995, 355.33655, 355.33655, 357.39502, 357.39502, 357.39502, 357.39502, 357.39502, 357.39502, 357.39502, 357.39502, 359.4654, 357.39502, 357.39502, 357.39502, 355.33655, 353.28995, 353.28995, 353.28995, 353.28995, 353.28995, 353.28995, 355.33655, 357.39502, 355.33655, 355.33655, 355.33655, 355.33655, 355.33655, 355.33655, 355.33655, 355.33655, 355.33655, 355.33655, 355.33655, 355.33655, 355.33655, 355.33655, 355.33655, 355.33655, 355.33655, 355.33655, 353.28995, 353.28995, 353.28995, 353.28995, 403.48654, 408.17487, 412.91766, 415.30966, 420.13535, 422.5692, 427.47925, 429.9556, 429.9556, 429.9556, 427.47925, 427.47925, 425.01712, 427.47925, 425.01712, 425.01712, 427.47925, 425.01712, 425.01712, 427.47925, 427.47925, 427.47925, 427.47925, 425.01712, 425.01712, 425.01712, 425.01712, 425.01712, 425.01712, 425.01712, 425.01712, 422.5692, 425.01712, 422.5692, 422.5692, 425.01712, 422.5692, 422.5692, 420.13535, 420.13535, 420.13535, 420.13535, 420.13535, 417.71555, 417.71555, 417.71555, 417.71555, 417.71555, 417.71555, 420.13535, 420.13535, 420.13535, 420.13535, 420.13535, 422.5692, 425.01712, 422.5692, 422.5692, 420.13535, 422.5692, 422.5692, 425.01712, 427.47925, 429.9556, 429.9556, 432.44635, 432.44635, 432.44635, 432.44635, 432.44635, 432.44635, 432.44635, 429.9556, 429.9556, 429.9556, 425.01712, 429.9556, 425.01712, 425.01712, 422.5692, 422.5692, 422.5692, 422.5692, 422.5692, 422.5692, 422.5692, 422.5692, 420.13535, 420.13535, 420.13535, 420.13535, 420.13535, 422.5692, 422.5692, 422.5692, 425.01712, 425.01712, 425.01712, 427.47925, 427.47925, 427.47925, 427.47925, 427.47925, 427.47925, 427.47925, 427.47925, 427.47925, 427.47925, 427.47925, 427.47925, 427.47925, 425.01712, 425.01712, 427.47925, 427.47925, 429.9556, 429.9556, 434.95148, 437.47116, 440.0054, 442.55435, 445.11807, 445.11807, 447.6966, 450.2901, 452.89865, 455.52225, 460.8152, 463.48468, 463.48468, 466.16965, 466.16965, 468.87015, 471.58633, 471.58633, 471.58633, 474.3182, 474.3182, 477.0659, 477.0659, 479.82956, 479.82956, 479.82956, 482.6092, 482.6092, 482.6092, 482.6092, 482.6092, 482.6092, 482.6092, 482.6092, 482.6092, 482.6092, 482.6092, 482.6092, 482.6092, 482.6092, 479.82956, 479.82956, 479.82956, 479.82956, 477.0659, 477.0659, 477.0659, 477.0659, 477.0659, 474.3182, 474.3182, 474.3182, 474.3182, 474.3182, 474.3182, 474.3182, 474.3182, 474.3182, 474.3182, 474.3182, 474.3182, 474.3182, 474.3182, 474.3182, 474.3182, 474.3182, 474.3182, 474.3182, 474.3182, 477.0659, 477.0659, 477.0659, 479.82956, 479.82956, 479.82956, 479.82956, 479.82956, 479.82956, 479.82956, 479.82956, 482.6092, 482.6092, 482.6092, 482.6092, 482.6092, 482.6092, 482.6092, 482.6092, 485.40494, 482.6092, 482.6092, 482.6092, 482.6092, 482.6092, 479.82956, 479.82956, 479.82956, 479.82956, 479.82956, 482.6092, 479.82956, 482.6092, 479.82956, 479.82956, 482.6092, 482.6092, 482.6092, 482.6092, 485.40494, 485.40494, 485.40494, 485.40494, 488.2169, 488.2169, 488.2169, 485.40494, 485.40494, 485.40494, 482.6092, 482.6092, 482.6092, 482.6092, 479.82956, 482.6092, 482.6092, 482.6092, 482.6092, 482.6092, 479.82956, 479.82956, 479.82956, 479.82956, 479.82956, 479.82956, 479.82956, 479.82956, 479.82956, 479.82956, 479.82956, 479.82956, 477.0659, 477.0659, 477.0659, 477.0659, 474.3182, 474.3182, 471.58633, 471.58633, 471.58633, 471.58633, 471.58633, 468.87015, 468.87015, 466.16965, 466.16965, 460.8152, 455.52225, 455.52225, 455.52225, 455.52225, 452.89865, 455.52225, 474.3182, 477.0659, 479.82956, 485.40494, 485.40494, 488.2169, 482.6092, 479.82956, 477.0659, 474.3182, 474.3182, 474.3182, 471.58633, 468.87015, 468.87015, 468.87015, 468.87015, 474.3182, 477.0659, 477.0659, 477.0659, 477.0659, 479.82956, 479.82956, 477.0659, 477.0659, 479.82956, 479.82956, 479.82956, 479.82956, 479.82956, 479.82956, 479.82956, 479.82956, 477.0659, 477.0659, 477.0659, 477.0659, 477.0659, 477.0659, 477.0659, 477.0659, 477.0659, 474.3182, 474.3182, 474.3182, 474.3182, 474.3182, 474.3182, 474.3182, 477.0659, 474.3182, 474.3182, 477.0659, 474.3182, 477.0659, 474.3182, 474.3182, 477.0659, 477.0659, 477.0659, 477.0659, 474.3182, 474.3182, 477.0659, 477.0659, 477.0659, 477.0659, 477.0659, 474.3182, 474.3182, 477.0659, 474.3182, 474.3182, 474.3182, 477.0659, 477.0659, 474.3182, 477.0659, 474.3182, 474.3182, 474.3182, 474.3182, 474.3182, 477.0659, 477.0659, 477.0659, 477.0659, 477.0659, 477.0659, 477.0659, 474.3182, 474.3182, 474.3182, 474.3182, 471.58633, 474.3182, 474.3182, 474.3182, 474.3182, 477.0659, 477.0659, 477.0659, 474.3182, 477.0659, 477.0659, 477.0659, 477.0659, 477.0659, 474.3182, 468.87015, 468.87015, 471.58633, 471.58633, 474.3182, 474.3182, 477.0659, 477.0659, 474.3182, 474.3182, 474.3182, 477.0659, 474.3182, 474.3182, 474.3182, 474.3182, 474.3182, 474.3182, 474.3182, 471.58633, 471.58633, 471.58633, 471.58633, 468.87015, 468.87015, 468.87015, 468.87015, 468.87015, 466.16965, 466.16965, 463.48468, 463.48468, 463.48468, 463.48468, 460.8152, 463.48468, 463.48468, 463.48468, 463.48468, 463.48468, 463.48468, 466.16965, 468.87015, 471.58633, 471.58633, 468.87015, 471.58633, 471.58633, 471.58633, 471.58633, 471.58633, 471.58633, 471.58633, 474.3182, 474.3182, 474.3182, 474.3182, 471.58633, 471.58633, 474.3182, 474.3182, 474.3182, 463.48468, 463.48468, 468.87015, 468.87015, 468.87015, 468.87015, 471.58633, 471.58633, 471.58633, 471.58633, 474.3182, 477.0659, 477.0659, 479.82956, 479.82956, 482.6092, 482.6092, 482.6092, 482.6092, 482.6092, 482.6092, 482.6092, 479.82956, 479.82956, 477.0659, 477.0659, 477.0659, 474.3182, 474.3182, 474.3182, 474.3182, 471.58633, 471.58633, 471.58633, 471.58633, 471.58633, 471.58633, 471.58633, 471.58633, 471.58633, 468.87015, 466.16965, 463.48468, 458.1611, 455.52225, 450.2901, 445.11807, 445.11807, 445.11807, 445.11807, 447.6966, 447.6966, 450.2901, 455.52225, 463.48468, 466.16965, 466.16965, 468.87015, 466.16965, 466.16965, 468.87015, 468.87015, 468.87015, 468.87015, 477.0659, 479.82956, 479.82956, 471.58633, 471.58633, 474.3182, 471.58633, 477.0659, 479.82956, 477.0659, 477.0659, 477.0659, 477.0659, 477.0659, 474.3182, 471.58633, 477.0659, 477.0659, 477.0659, 479.82956, 479.82956, 479.82956, 479.82956, 477.0659, 477.0659, 477.0659, 477.0659, 474.3182, 474.3182, 474.3182, 474.3182, 474.3182, 474.3182, 474.3182, 471.58633, 474.3182, 474.3182, 474.3182, 477.0659, 477.0659, 477.0659, 477.0659, 477.0659, 477.0659, 477.0659, 477.0659, 474.3182, 477.0659, 477.0659, 474.3182, 474.3182, 471.58633, 471.58633, 471.58633, 474.3182, 474.3182, 474.3182, 477.0659, 477.0659, 477.0659, 477.0659, 474.3182, 474.3182, 477.0659, 477.0659, 474.3182, 474.3182, 474.3182, 474.3182, 474.3182, 474.3182, 474.3182, 474.3182, 474.3182, 474.3182, 471.58633, 474.3182, 468.87015, 468.87015, 468.87015, 471.58633, 474.3182, 477.0659, 479.82956, 482.6092, 479.82956, 479.82956, 477.0659, 477.0659, 474.3182, 474.3182, 477.0659, 474.3182, 471.58633, 468.87015, 468.87015, 297.07996, 298.80093, 297.07996, 297.07996, 295.36887, 295.36887, 293.66766, 293.66766, 293.66766, 293.66766, 295.36887, 295.36887, 297.07996, 297.07996, 297.07996, 297.07996, 297.07996, 295.36887, 295.36887, 295.36887, 297.07996, 297.07996, 297.07996, 295.36887, 297.07996, 297.07996, 297.07996, 297.07996, 297.07996, 297.07996, 297.07996, 297.07996, 297.07996, 297.07996, 297.07996, 297.07996, 302.27286, 305.7851, 305.7851, 305.7851, 305.7851, 304.02393, 304.02393, 304.02393, 304.02393, 302.27286, 304.02393, 307.55652, 311.1302, 316.56866, 316.56866, 320.24704, 322.1022, 322.1022, 323.96814, 327.73248, 341.25552, 345.22076, 347.2206, 349.23206, 351.25513, 349.23206, 347.2206, 345.22076, 345.22076, 345.22076, 347.2206, 403.48654, 410.5394, 417.71555, 403.48654, 387.49747, 394.2708, 401.1626, 403.48654, 403.48654, 398.85208, 398.85208, 398.85208, 401.1626, 398.85208, 398.85208, 396.55484, 392.0, 378.64694, 392.0, 394.2708, 403.48654, 412.91766, 415.30966, 420.13535, 422.5692, 425.01712, 427.47925, 437.47116, 445.11807, 447.6966, 447.6966, 450.2901, 447.6966, 450.2901, 471.58633, 471.58633, 471.58633, 471.58633, 474.3182, 474.3182, 477.0659, 477.0659, 479.82956, 479.82956, 482.6092, 482.6092, 482.6092, 485.40494, 485.40494, 485.40494, 485.40494, 488.2169, 488.2169, 488.2169, 488.2169, 485.40494, 485.40494, 485.40494, 485.40494, 482.6092, 479.82956, 479.82956, 477.0659, 474.3182, 474.3182, 474.3182, 471.58633, 471.58633, 471.58633, 471.58633, 468.87015, 468.87015, 468.87015, 466.16965, 466.16965, 466.16965, 468.87015, 468.87015, 468.87015, 471.58633, 471.58633, 474.3182, 477.0659, 477.0659, 477.0659, 477.0659, 479.82956, 479.82956, 479.82956, 479.82956, 479.82956, 479.82956, 479.82956, 479.82956, 479.82956, 479.82956, 479.82956, 479.82956, 482.6092, 482.6092, 485.40494, 482.6092, 482.6092, 482.6092, 482.6092, 482.6092, 479.82956, 479.82956, 479.82956, 479.82956, 477.0659, 477.0659, 474.3182, 474.3182, 474.3182, 471.58633, 471.58633, 471.58633, 471.58633, 474.3182, 474.3182, 474.3182, 474.3182, 471.58633, 474.3182, 471.58633, 474.3182, 474.3182, 477.0659, 477.0659, 479.82956, 479.82956, 479.82956, 479.82956, 479.82956, 479.82956, 479.82956, 479.82956, 479.82956, 479.82956, 479.82956, 482.6092, 482.6092, 482.6092, 482.6092, 485.40494, 485.40494, 485.40494, 488.2169, 488.2169, 488.2169, 488.2169, 488.2169, 488.2169, 485.40494, 485.40494, 485.40494, 482.6092, 482.6092, 482.6092, 482.6092, 479.82956, 479.82956, 477.0659, 477.0659, 477.0659, 477.0659, 477.0659, 474.3182, 474.3182, 474.3182, 474.3182, 474.3182, 471.58633, 471.58633, 471.58633, 474.3182, 474.3182, 477.0659, 477.0659, 474.3182, 474.3182, 474.3182, 434.95148, 434.95148, 434.95148, 434.95148, 434.95148, 437.47116, 437.47116, 437.47116, 440.0054, 440.0054, 440.0054, 440.0054, 440.0054, 440.0054, 442.55435, 442.55435, 442.55435, 442.55435, 442.55435, 442.55435, 442.55435, 440.0054, 440.0054, 440.0054, 440.0054, 437.47116, 434.95148, 434.95148, 432.44635, 429.9556, 429.9556, 429.9556, 427.47925, 425.01712, 420.13535, 420.13535, 417.71555, 415.30966, 412.91766, 408.17487, 408.17487, 405.8239, 405.8239, 405.8239, 408.17487, 408.17487, 408.17487, 410.5394, 410.5394, 410.5394, 412.91766, 415.30966, 420.13535, 420.13535, 422.5692, 425.01712, 427.47925, 429.9556, 432.44635, 434.95148, 434.95148, 437.47116, 437.47116, 437.47116, 440.0054, 440.0054, 440.0054, 437.47116, 440.0054, 440.0054, 440.0054, 440.0054, 440.0054, 440.0054, 440.0054, 437.47116, 437.47116, 437.47116, 434.95148, 434.95148, 432.44635, 432.44635, 432.44635, 429.9556, 429.9556, 427.47925, 425.01712, 425.01712, 425.01712, 422.5692, 420.13535, 417.71555, 417.71555, 417.71555, 417.71555, 417.71555, 417.71555, 420.13535, 422.5692, 422.5692, 425.01712, 425.01712, 427.47925, 429.9556, 429.9556, 432.44635, 440.0054, 450.2901, 452.89865, 455.52225, 455.52225, 458.1611, 460.8152, 463.48468, 463.48468, 466.16965, 466.16965, 468.87015, 471.58633, 471.58633, 474.3182, 474.3182, 474.3182, 474.3182, 474.3182, 474.3182, 474.3182, 474.3182, 474.3182, 474.3182, 474.3182, 474.3182, 471.58633, 471.58633, 471.58633, 471.58633, 468.87015, 468.87015, 468.87015, 466.16965, 468.87015, 466.16965, 466.16965, 466.16965, 468.87015, 468.87015, 471.58633, 474.3182, 477.0659, 477.0659, 479.82956, 482.6092, 482.6092, 485.40494, 485.40494, 488.2169, 491.0451, 493.8897, 496.7508, 499.62848, 502.5228, 505.43393, 508.36185, 508.36185, 511.30676, 511.30676, 514.2688, 514.2688, 514.2688, 514.2688, 517.2479, 517.2479, 517.2479, 517.2479, 517.2479, 517.2479, 514.2688, 508.36185, 485.40494, 482.6092, 479.82956, 477.0659, 477.0659, 474.3182, 468.87015, 474.3182, 477.0659, 479.82956, 479.82956, 479.82956, 479.82956, 477.0659, 471.58633, 468.87015, 468.87015, 468.87015, 468.87015, 471.58633, 474.3182, 474.3182, 474.3182, 471.58633, 471.58633, 466.16965, 468.87015, 471.58633, 474.3182, 477.0659, 479.82956, 485.40494, 485.40494, 482.6092, 482.6092, 482.6092, 482.6092, 482.6092, 482.6092, 482.6092, 479.82956, 479.82956, 482.6092, 482.6092, 482.6092, 485.40494, 485.40494, 485.40494, 485.40494, 485.40494, 482.6092, 482.6092, 482.6092, 482.6092, 482.6092, 482.6092, 482.6092, 479.82956, 477.0659, 477.0659, 474.3182, 474.3182, 471.58633, 471.58633, 471.58633, 468.87015, 468.87015, 468.87015, 468.87015, 468.87015, 468.87015, 466.16965, 468.87015, 468.87015, 468.87015, 468.87015, 474.3182, 479.82956, 477.0659, 477.0659, 474.3182, 474.3182, 477.0659, 477.0659, 479.82956, 482.6092, 485.40494, 485.40494, 485.40494, 488.2169, 488.2169, 488.2169, 488.2169, 488.2169, 488.2169, 488.2169, 488.2169, 488.2169, 488.2169, 491.0451, 491.0451, 491.0451, 493.8897, 493.8897, 493.8897, 493.8897, 493.8897, 491.0451, 491.0451, 488.2169, 488.2169, 482.6092, 482.6092, 479.82956, 474.3182, 474.3182, 474.3182, 474.3182, 477.0659, 479.82956, 485.40494, 485.40494, 485.40494, 485.40494, 485.40494, 479.82956, 479.82956, 477.0659, 477.0659, 477.0659, 477.0659, 477.0659, 479.82956, 479.82956, 477.0659, 477.0659, 479.82956, 479.82956, 479.82956, 479.82956, 482.6092, 482.6092, 482.6092, 482.6092, 482.6092, 482.6092, 482.6092, 485.40494, 485.40494, 482.6092, 482.6092, 482.6092, 479.82956, 479.82956, 477.0659, 477.0659, 474.3182, 471.58633, 468.87015, 466.16965, 468.87015, 468.87015, 471.58633, 474.3182, 474.3182, 477.0659, 477.0659, 477.0659, 442.55435, 440.0054, 440.0054, 442.55435, 445.11807, 442.55435, 445.11807, 447.6966, 452.89865, 455.52225, 458.1611, 460.8152, 460.8152, 463.48468, 463.48468, 466.16965, 466.16965, 468.87015, 468.87015, 468.87015, 468.87015, 468.87015, 466.16965, 466.16965, 466.16965, 466.16965, 463.48468, 466.16965, 471.58633, 479.82956, 485.40494, 491.0451, 491.0451, 485.40494, 479.82956, 474.3182, 474.3182, 474.3182, 474.3182, 477.0659, 477.0659, 474.3182, 477.0659, 479.82956, 479.82956, 477.0659, 477.0659, 474.3182, 471.58633, 474.3182, 477.0659, 477.0659, 479.82956, 482.6092, 479.82956, 479.82956, 479.82956, 479.82956, 477.0659, 474.3182, 474.3182, 477.0659, 477.0659, 477.0659, 479.82956, 485.40494, 493.8897, 493.8897, 493.8897, 493.8897, 493.8897, 493.8897, 493.8897, 493.8897, 493.8897, 493.8897, 491.0451, 491.0451, 491.0451, 491.0451, 488.2169, 488.2169, 485.40494, 485.40494, 482.6092, 482.6092, 477.0659, 474.3182, 474.3182, 471.58633, 468.87015, 471.58633, 468.87015, 468.87015, 466.16965, 466.16965, 466.16965, 466.16965, 466.16965, 466.16965, 466.16965, 466.16965, 466.16965, 466.16965, 468.87015, 471.58633, 471.58633, 474.3182, 477.0659, 479.82956, 479.82956, 479.82956, 479.82956, 479.82956, 479.82956, 479.82956, 479.82956, 479.82956, 479.82956, 479.82956, 479.82956, 477.0659, 479.82956, 477.0659, 477.0659, 474.3182, 474.3182, 474.3182, 477.0659, 474.3182, 477.0659, 477.0659, 474.3182, 474.3182, 474.3182, 474.3182, 474.3182, 471.58633, 471.58633, 468.87015, 471.58633, 471.58633, 474.3182, 474.3182, 477.0659, 479.82956, 479.82956, 479.82956, 482.6092, 482.6092, 479.82956, 479.82956, 479.82956, 474.3182, 471.58633, 468.87015, 468.87015, 471.58633, 471.58633, 474.3182, 474.3182, 477.0659, 479.82956, 488.2169, 491.0451, 482.6092, 482.6092, 479.82956, 477.0659, 479.82956, 477.0659, 474.3182, 474.3182, 474.3182, 477.0659, 477.0659, 474.3182, 477.0659, 477.0659, 479.82956, 485.40494, 485.40494, 485.40494, 485.40494, 485.40494, 485.40494, 488.2169, 488.2169, 485.40494, 485.40494, 485.40494, 485.40494, 482.6092, 479.82956, 479.82956, 477.0659, 477.0659, 477.0659, 477.0659, 477.0659, 477.0659, 474.3182, 477.0659, 477.0659, 479.82956, 477.0659, 477.0659, 477.0659, 477.0659, 458.1611, 463.48468, 468.87015, 471.58633, 471.58633, 474.3182, 477.0659, 482.6092, 482.6092, 482.6092, 482.6092, 482.6092, 485.40494, 485.40494, 485.40494, 488.2169, 485.40494, 482.6092, 482.6092, 485.40494, 485.40494, 485.40494, 485.40494, 485.40494, 485.40494, 482.6092, 482.6092, 482.6092, 482.6092, 479.82956, 477.0659, 583.9549, 583.9549, 587.33777, 590.74023, 590.74023, 597.6043, 597.6043, 594.16235, 594.16235, 597.6043, 594.16235, 590.74023, 590.74023, 590.74023, 590.74023, 594.16235, 594.16235, 594.16235, 594.16235, 594.16235, 594.16235, 594.16235, 594.16235, 594.16235, 594.16235]\n",
            "Number of non-cero pitch values:  5717\n",
            "Unique pitch values: [160.12286, 158.28368, 159.20062, 157.37204, 156.46562, 161.05045, 163.86559, 167.69577, 171.61551, 172.60966, 174.61531, 175.62685, 176.64426, 177.66754, 178.69678, 180.77315, 179.73195, 214.97693, 213.73874, 212.50769, 211.28374, 210.06682, 155.56445, 88.83341, 88.32176, 87.81307, 89.34802, 87.3073, 86.80444, 89.86561, 90.909805, 90.3862, 132.33345, 133.10004, 133.8711, 134.6466, 135.4266, 131.57124, 130.81345, 206.45798, 208.85692, 202.91112, 201.74243, 199.42522, 195.99919, 191.52254, 186.07022, 182.87364, 181.82036, 173.60959, 170.62706, 169.64432, 105.64143, 105.032974, 106.25341, 104.428024, 103.82657, 106.868935, 207.65399, 204.0866, 188.23227, 184.99854, 119.956406, 119.2655, 118.578575, 117.895615, 117.21658, 116.54146, 115.870224, 112.57161, 111.92323, 113.22373, 120.65131, 241.3036, 239.9138, 238.53198, 234.43413, 235.79219, 237.15813, 233.08386, 231.7414, 229.07962, 220.00182, 217.47485, 216.22229, 205.26886, 200.58047, 197.13461, 192.63202, 189.32271, 187.14813, 183.93301, 122.053215, 121.350235, 122.76027, 226.44838, 244.10742, 242.70148, 230.40665, 227.76021, 136.21114, 130.06001, 124.9061, 127.82566, 126.357445, 128.56613, 129.31091, 164.81485, 165.76962, 166.72992, 162.92178, 161.98341, 168.66724, 194.87032, 193.74794, 190.41943, 474.3182, 471.58633, 468.87015, 477.0659, 479.82956, 482.6092, 485.40494, 488.2169, 491.0451, 460.8152, 466.16965, 455.52225, 452.89865, 447.6966, 445.11807, 440.0054, 434.95148, 425.01712, 412.91766, 405.8239, 398.85208, 392.0, 387.49747, 383.04663, 380.84045, 376.4661, 374.29782, 367.86755, 365.74878, 361.54776, 355.33655, 353.28995, 349.23206, 345.22076, 341.25552, 339.29004, 337.33585, 335.39294, 333.4612, 331.5406, 329.63104, 343.23242, 347.2206, 351.25513, 396.55484, 401.1626, 403.48654, 408.17487, 417.71555, 420.13535, 422.5692, 415.30966, 410.5394, 394.2708, 427.47925, 429.9556, 432.44635, 437.47116, 442.55435, 450.2901, 458.1611, 463.48468, 359.4654, 357.39502, 363.64218, 369.9986, 389.74222, 385.26562, 325.8449, 323.96814, 322.1022, 318.40253, 314.74536, 312.93253, 311.1302, 309.33817, 307.55652, 305.7851, 304.02393, 300.53186, 298.80093, 295.36887, 290.29462, 285.3075, 283.6642, 282.03043, 278.79102, 274.00153, 269.2943, 264.66797, 263.1436, 266.2012, 327.73248, 320.24704, 316.56866, 378.64694, 372.14197, 198.2766, 644.2071, 640.4967, 636.8077, 633.1399, 629.4933, 517.2479, 511.30676, 514.2688, 520.2443, 523.2581, 529.33813, 532.40454, 535.4888, 538.5908, 541.7109, 544.849, 548.0053, 551.1799, 526.28937, 493.8897, 496.7508, 499.62848, 502.5228, 505.43393, 508.36185, 293.66766, 286.96027, 280.40604, 272.42337, 267.7433, 261.62796, 260.1211, 597.6043, 594.16235, 601.0662, 590.74023, 608.0503, 625.8676, 647.93896, 788.5449, 793.1129, 714.79297, 297.07996, 302.27286, 583.9549, 587.33777]\n",
            "Number of unique pitch values: 260\n",
            "[626, 83, 167, 542, 125, 876, 376, 125, 793, 292, 1294, 417]\n",
            "[0.11, 0.01, 0.03, 0.09, 0.02, 0.15, 0.07, 0.02, 0.14, 0.05, 0.23, 0.07]\n"
          ]
        },
        {
          "output_type": "display_data",
          "data": {
            "text/plain": [
              "<Figure size 640x480 with 1 Axes>"
            ],
            "image/png": "[encoded data removed]"
          },
          "metadata": {}
        }
      ]
    },
    {
      "cell_type": "markdown",
      "source": [
        "### Util"
      ],
      "metadata": {
        "id": "fofZ-NQVfSKd"
      }
    },
    {
      "cell_type": "code",
      "source": [
        "print('Program number 42 is {}'.format(pretty_midi.program_to_instrument_name(42)))\n",
        "print('... and has instrument class {}'.format(pretty_midi.program_to_instrument_class(42)))\n",
        "print('Bassoon has program number {}'.format(pretty_midi.instrument_name_to_program('Bassoon')))"
      ],
      "metadata": {
        "colab": {
          "base_uri": "https://localhost:8080/"
        },
        "id": "shRwENzNfQ6T",
        "outputId": "ec276c04-2c45-48f2-cb59-d1a1e0e752aa"
      },
      "execution_count": 20,
      "outputs": [
        {
          "output_type": "stream",
          "name": "stdout",
          "text": [
            "Program number 42 is Cello\n",
            "... and has instrument class Strings\n",
            "Bassoon has program number 70\n"
          ]
        }
      ]
    }
  ]
}